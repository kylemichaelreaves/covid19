{
 "cells": [
  {
   "cell_type": "markdown",
   "metadata": {},
   "source": [
    "# COVID19 Project"
   ]
  },
  {
   "cell_type": "code",
   "execution_count": 36,
   "metadata": {},
   "outputs": [],
   "source": [
    "import pandas as pd, sys, matplotlib.pyplot as plt\n",
    "from datetime import datetime as dt, timedelta\n",
    "\n",
    "#dtype changed to category from object to optimize runtime\n",
    "df =  pd.read_csv(\"https://raw.githubusercontent.com/nytimes/covid-19-data/master/us-counties.csv\", dtype={'county': 'category', \n",
    "                                                                                                           'state': 'category'})\n",
    "df.date = pd.to_datetime(df.date)\n",
    "df['cases_diff'] = df.groupby(['county', 'state'])['cases'].diff()\n",
    "df['deaths_diff'] = df.groupby(['county', 'state'])['deaths'].diff()\n",
    "\n",
    "df.set_index(df.date, inplace=True, drop=True)\n",
    "df.drop(columns=['date'], inplace=True)\n",
    "df.index = df.index.astype('datetime64[ns]')\n",
    "df.sort_index(ascending=False, inplace=True)"
   ]
  },
  {
   "cell_type": "code",
   "execution_count": 22,
   "metadata": {},
   "outputs": [],
   "source": [
    "states = df.state.unique().tolist()\n",
    "counties = df.county.unique().tolist()\n",
    "fips = df.fips.unique().tolist()\n",
    "\n",
    "total_cases = df.xs(df.index[0])['cases'].sum()\n",
    "total_deaths = df.xs(df.index[0])['deaths'].sum()\n",
    "\n",
    "def greatest_cases_yesterday():\n",
    "    gcy = df.sort_values(by=['date', 'cases_diff'], ascending=False)\n",
    "    return gcy.xs(df.index[0])\n",
    "\n",
    "def greatest_deaths_yesterday():\n",
    "    gdy = df.sort_values(by=['date', 'deaths_diff'], ascending=False)\n",
    "    return gdy.xs(df.index[0])\n",
    "\n",
    "def county_df(county, state=None):\n",
    "    county_df = df[df['county'] == county].drop(columns=['county'])\n",
    "    \n",
    "    if state is not None:\n",
    "        county_df = df[(df.county == county) & (df.state == state)]\n",
    "        return county_df\n",
    "    \n",
    "    if county in states:\n",
    "        return \"{0} is not a county but a state.\".format(county)\n",
    "    \n",
    "    also_in = county_df.state.unique()\n",
    "    num_counties = len(also_in)\n",
    "    \n",
    "    if num_counties == 1:\n",
    "        county_df.drop(columns=['state', 'fips'], axis=1, inplace=True)\n",
    "        \n",
    "    if num_counties > 1:\n",
    "        return \"{0} appears in {1}; please specify.\".format(county, also_in)\n",
    "    \n",
    "    return county_df\n",
    "\n",
    "#state_totals_df \n",
    "\n",
    "def state_df(state):\n",
    "    if state not in states:\n",
    "        return \"{0} is not in database.\".format(state)\n",
    "    \n",
    "    sdf = df[df.state == state].copy()\n",
    "    \n",
    "    counties = sdf.county.unique()\n",
    "    \n",
    "    sdf.sort_index(ascending=False, inplace=True)\n",
    "    sdf.drop(columns=['fips'], inplace=True)\n",
    "    return sdf\n",
    "\n",
    "#if cases or deaths are the highest yesterday...\n",
    "def yesterday():\n",
    "    cases = df.xs(df.index[0])['cases_diff'].sum()\n",
    "    deaths = df.xs(df.index[0])['deaths_diff'].sum()\n",
    "    date =  df.index[0].strftime('%D')\n",
    "    return \"{0} cases and {1} deaths on {2}\".format(cases, deaths, date)\n",
    "\n",
    "\n",
    "# state as optional input\n",
    "# What is the first date in the index of the state_df? \n",
    "def daily_totals(state=None):\n",
    "    if state is None:\n",
    "        index = df.index.unique()\n",
    "        data = {'cases': [df.xs(i)['cases_diff'].sum() for i in index],\n",
    "               'deaths': [df.xs(i)['deaths_diff'].sum() for i in index]}\n",
    "        df2 = pd.DataFrame(data, index)\n",
    "\n",
    "    if state:\n",
    "        index = state_df(state).index.unique()\n",
    "        data = {'cases': [state_df(state).xs(i)['cases_diff'].sum() for i in index],\n",
    "               'deaths': [state_df(state).xs(i)['deaths_diff'].sum() for i in index]}\n",
    "        df2 = pd.DataFrame(data, index)\n",
    "        return df2\n",
    "    else:\n",
    "        return df2"
   ]
  },
  {
   "cell_type": "code",
   "execution_count": 59,
   "metadata": {},
   "outputs": [
    {
     "data": {
      "text/plain": [
       "'202332.0 cases and 1522.0 deaths on 12/07/20'"
      ]
     },
     "execution_count": 59,
     "metadata": {},
     "output_type": "execute_result"
    }
   ],
   "source": [
    "yesterday()"
   ]
  },
  {
   "cell_type": "code",
   "execution_count": 6,
   "metadata": {},
   "outputs": [
    {
     "data": {
      "text/plain": [
       "('12/04/20', '12/02/20')"
      ]
     },
     "execution_count": 6,
     "metadata": {},
     "output_type": "execute_result"
    }
   ],
   "source": [
    "daily_totals()['cases'].idxmax().strftime(\"%D\"), daily_totals()['deaths'].idxmax().strftime(\"%D\")"
   ]
  },
  {
   "cell_type": "code",
   "execution_count": 42,
   "metadata": {},
   "outputs": [
    {
     "data": {
      "text/plain": [
       "(15025767.0, 285173.0)"
      ]
     },
     "execution_count": 42,
     "metadata": {},
     "output_type": "execute_result"
    }
   ],
   "source": [
    "daily_totals()['cases'].sum(), daily_totals()['deaths'].sum()"
   ]
  },
  {
   "cell_type": "code",
   "execution_count": 8,
   "metadata": {},
   "outputs": [
    {
     "name": "stdout",
     "output_type": "stream",
     "text": [
      "2020-12-07, 3563.0, 15.0\n",
      "2020-12-06, 6030.0, 15.0\n",
      "2020-12-05, 5324.0, 51.0\n",
      "2020-12-04, 5663.0, 46.0\n",
      "2020-12-03, 4793.0, 64.0\n",
      "2020-12-02, 4303.0, 62.0\n",
      "2020-12-01, 4606.0, 90.0\n",
      "2020-11-30, 3190.0, 15.0\n",
      "2020-11-29, 3839.0, 13.0\n",
      "2020-11-28, 3802.0, 23.0\n",
      "2020-11-27, 4095.0, 17.0\n",
      "2020-11-26, 4473.0, 39.0\n",
      "2020-11-25, 4059.0, 67.0\n",
      "2020-11-24, 4275.0, 47.0\n",
      "2020-11-23, 3581.0, 11.0\n",
      "2020-11-22, 3968.0, 15.0\n",
      "2020-11-21, 4669.0, 34.0\n",
      "2020-11-20, 3626.0, 23.0\n",
      "2020-11-19, 4182.0, 34.0\n",
      "2020-11-18, 4054.0, 37.0\n",
      "2020-11-17, 4026.0, 38.0\n",
      "2020-11-16, 2219.0, 14.0\n",
      "2020-11-15, 4538.0, 18.0\n",
      "2020-11-14, 4353.0, 26.0\n",
      "2020-11-13, 3397.0, 27.0\n",
      "2020-11-12, 3492.0, 19.0\n",
      "2020-11-11, 3065.0, 15.0\n",
      "2020-11-10, 3777.0, 21.0\n",
      "2020-11-09, 2058.0, 11.0\n",
      "2020-11-08, 2013.0, 4.0\n",
      "2020-11-07, 3202.0, 9.0\n",
      "2020-11-06, 2161.0, 13.0\n",
      "2020-11-05, 1962.0, 12.0\n",
      "2020-11-04, 2443.0, 20.0\n",
      "2020-11-03, 1824.0, 14.0\n",
      "2020-11-02, 1368.0, 3.0\n",
      "2020-11-01, 1743.0, 4.0\n",
      "2020-10-31, 1363.0, 11.0\n",
      "2020-10-30, 1976.0, 7.0\n",
      "2020-10-29, 1550.0, 8.0\n",
      "2020-10-28, 1670.0, 18.0\n",
      "2020-10-27, 1647.0, 14.0\n",
      "2020-10-26, 1216.0, 7.0\n",
      "2020-10-25, 1129.0, 4.0\n",
      "2020-10-24, 1909.0, 8.0\n",
      "2020-10-23, 1045.0, 10.0\n",
      "2020-10-22, 1162.0, 18.0\n",
      "2020-10-21, 1030.0, 18.0\n",
      "2020-10-20, 988.0, 13.0\n",
      "2020-10-19, 1192.0, 3.0\n",
      "2020-10-18, 1275.0, 7.0\n",
      "2020-10-17, 934.0, 2.0\n",
      "2020-10-16, 810.0, 5.0\n",
      "2020-10-15, 971.0, 6.0\n",
      "2020-10-14, 939.0, 9.0\n",
      "2020-10-13, 988.0, 7.0\n",
      "2020-10-12, 469.0, 1.0\n",
      "2020-10-11, 751.0, 3.0\n",
      "2020-10-10, 864.0, 7.0\n",
      "2020-10-09, 865.0, 3.0\n",
      "2020-10-08, 1298.0, 9.0\n",
      "2020-10-07, 509.0, 5.0\n",
      "2020-10-06, 629.0, 9.0\n",
      "2020-10-05, 511.0, 2.0\n",
      "2020-10-04, 626.0, 1.0\n",
      "2020-10-03, 947.0, 4.0\n",
      "2020-10-02, 740.0, 4.0\n",
      "2020-10-01, 614.0, 5.0\n",
      "2020-09-30, 708.0, 5.0\n",
      "2020-09-29, 456.0, 10.0\n",
      "2020-09-28, 559.0, 1.0\n",
      "2020-09-27, 698.0, 3.0\n",
      "2020-09-26, 750.0, 6.0\n",
      "2020-09-25, 548.0, 6.0\n",
      "2020-09-24, 564.0, 9.0\n",
      "2020-09-23, 408.0, 6.0\n",
      "2020-09-22, 426.0, 7.0\n",
      "2020-09-21, 392.0, 2.0\n",
      "2020-09-20, 453.0, 3.0\n",
      "2020-09-19, 461.0, 3.0\n",
      "2020-09-18, 487.0, 4.0\n",
      "2020-09-17, 569.0, 3.0\n",
      "2020-09-16, 390.0, 11.0\n",
      "2020-09-15, 436.0, 9.0\n",
      "2020-09-14, 334.0, 3.0\n",
      "2020-09-13, 297.0, 4.0\n",
      "2020-09-12, 449.0, 4.0\n",
      "2020-09-11, 474.0, 9.0\n",
      "2020-09-10, 424.0, 5.0\n",
      "2020-09-09, 329.0, 13.0\n",
      "2020-09-08, 277.0, 5.0\n",
      "2020-09-07, 332.0, 2.0\n",
      "2020-09-06, 311.0, 4.0\n",
      "2020-09-05, 325.0, 7.0\n",
      "2020-09-04, 449.0, 7.0\n",
      "2020-09-03, 378.0, 7.0\n",
      "2020-09-02, 308.0, 14.0\n",
      "2020-09-01, 330.0, 5.0\n",
      "2020-08-31, 349.0, 8.0\n",
      "2020-08-30, 291.0, 4.0\n",
      "2020-08-29, 349.0, 3.0\n",
      "2020-08-28, 358.0, 9.0\n",
      "2020-08-27, 307.0, 7.0\n",
      "2020-08-26, 236.0, -39.0\n",
      "2020-08-25, 302.0, 7.0\n",
      "2020-08-24, 225.0, 0.0\n",
      "2020-08-23, 148.0, 3.0\n",
      "2020-08-22, 529.0, 2.0\n",
      "2020-08-21, 290.0, 9.0\n",
      "2020-08-20, 100.0, 6.0\n",
      "2020-08-19, 319.0, 1.0\n",
      "2020-08-18, 331.0, 9.0\n",
      "2020-08-17, 312.0, 4.0\n",
      "2020-08-16, 13.0, 2.0\n",
      "2020-08-15, 278.0, 7.0\n",
      "2020-08-14, 570.0, 10.0\n",
      "2020-08-13, 656.0, 8.0\n",
      "2020-08-12, 449.0, -5.0\n",
      "2020-08-11, 444.0, 12.0\n",
      "2020-08-10, 258.0, 4.0\n",
      "2020-08-09, 344.0, 5.0\n",
      "2020-08-08, 368.0, 9.0\n",
      "2020-08-07, 360.0, 11.0\n",
      "2020-08-06, 374.0, 7.0\n",
      "2020-08-05, 335.0, -15.0\n",
      "2020-08-04, 356.0, 11.0\n",
      "2020-08-03, 264.0, 10.0\n",
      "2020-08-02, 321.0, 6.0\n",
      "2020-08-01, 369.0, 11.0\n",
      "2020-07-31, 690.0, 10.0\n",
      "2020-07-30, 204.0, 11.0\n",
      "2020-07-29, 426.0, -27.0\n",
      "2020-07-28, 483.0, 21.0\n",
      "2020-07-27, 449.0, 17.0\n",
      "2020-07-26, 505.0, 11.0\n",
      "2020-07-25, 513.0, 11.0\n",
      "2020-07-24, 458.0, 35.0\n",
      "2020-07-23, 242.0, 23.0\n",
      "2020-07-22, 335.0, -30.0\n",
      "2020-07-21, 293.0, 22.0\n",
      "2020-07-20, 180.0, 9.0\n",
      "2020-07-19, -31.0, 7.0\n",
      "2020-07-18, 263.0, 15.0\n",
      "2020-07-17, 50.0, 19.0\n",
      "2020-07-16, 223.0, 31.0\n",
      "2020-07-15, 390.0, 52.0\n",
      "2020-07-14, 393.0, 22.0\n",
      "2020-07-13, 224.0, 35.0\n",
      "2020-07-12, 339.0, 0.0\n",
      "2020-07-11, 331.0, 46.0\n",
      "2020-07-10, 358.0, 31.0\n",
      "2020-07-09, 231.0, 25.0\n",
      "2020-07-08, 252.0, 142.0\n",
      "2020-07-07, 267.0, 52.0\n",
      "2020-07-06, 209.0, 18.0\n",
      "2020-07-05, 369.0, 22.0\n",
      "2020-07-04, 291.0, 25.0\n",
      "2020-07-03, 386.0, 57.0\n",
      "2020-07-02, 430.0, 29.0\n",
      "2020-07-01, 261.0, 43.0\n",
      "2020-06-30, 395.0, 43.0\n",
      "2020-06-29, 90.0, 17.0\n",
      "2020-06-28, 309.0, 27.0\n",
      "2020-06-27, 289.0, 34.0\n",
      "2020-06-26, 388.0, 42.0\n",
      "2020-06-25, 2158.0, 1877.0\n",
      "2020-06-24, 158.0, 46.0\n",
      "2020-06-23, 319.0, 54.0\n",
      "2020-06-22, 273.0, 25.0\n",
      "2020-06-21, 308.0, 13.0\n",
      "2020-06-20, 338.0, 22.0\n",
      "2020-06-19, 389.0, 35.0\n",
      "2020-06-18, 404.0, 31.0\n",
      "2020-06-17, 277.0, 42.0\n",
      "2020-06-16, 323.0, 51.0\n",
      "2020-06-15, 222.0, 51.0\n",
      "2020-06-14, 276.0, 36.0\n",
      "2020-06-13, 441.0, 100.0\n",
      "2020-06-12, 348.0, 46.0\n",
      "2020-06-11, 470.0, 66.0\n",
      "2020-06-10, 550.0, 74.0\n",
      "2020-06-09, 299.0, 89.0\n",
      "2020-06-08, 333.0, 38.0\n",
      "2020-06-07, 271.0, 70.0\n",
      "2020-06-06, 557.0, 57.0\n",
      "2020-06-05, 806.0, 79.0\n",
      "2020-06-04, 462.0, 90.0\n",
      "2020-06-03, 523.0, 110.0\n",
      "2020-06-02, 627.0, 49.0\n",
      "2020-06-01, 473.0, 23.0\n",
      "2020-05-31, 837.0, 64.0\n",
      "2020-05-30, 764.0, 103.0\n",
      "2020-05-29, 1029.0, 130.0\n",
      "2020-05-28, 1187.0, 62.0\n",
      "2020-05-27, 864.0, 148.0\n",
      "2020-05-26, 672.0, 47.0\n",
      "2020-05-25, 938.0, 11.0\n",
      "2020-05-24, 1050.0, 52.0\n",
      "2020-05-23, 385.0, 96.0\n",
      "2020-05-22, 1247.0, 142.0\n",
      "2020-05-21, 1073.0, 96.0\n",
      "2020-05-20, 1386.0, 161.0\n",
      "2020-05-19, 974.0, 151.0\n",
      "2020-05-18, 1705.0, 79.0\n",
      "2020-05-17, 1245.0, 107.0\n",
      "2020-05-16, 1184.0, 111.0\n",
      "2020-05-15, 1201.0, 192.0\n",
      "2020-05-14, 1144.0, 244.0\n",
      "2020-05-13, 817.0, 194.0\n",
      "2020-05-12, 798.0, 198.0\n",
      "2020-05-11, 1413.0, 55.0\n",
      "2020-05-10, 1447.0, 139.0\n",
      "2020-05-09, 1631.0, 164.0\n",
      "2020-05-08, 1819.0, 151.0\n",
      "2020-05-07, 1745.0, 252.0\n",
      "2020-05-06, 1297.0, 305.0\n",
      "2020-05-05, 2324.0, 334.0\n",
      "2020-05-04, 1525.0, 39.0\n",
      "2020-05-03, 3027.0, 129.0\n",
      "2020-05-02, 2527.0, 204.0\n",
      "2020-05-01, 2538.0, 310.0\n",
      "2020-04-30, 2388.0, 458.0\n",
      "2020-04-29, 2408.0, 328.0\n",
      "2020-04-28, 2668.0, 398.0\n",
      "2020-04-27, 2150.0, 106.0\n",
      "2020-04-26, 3515.0, 75.0\n",
      "2020-04-25, 3327.0, 246.0\n",
      "2020-04-24, 2207.0, 249.0\n",
      "2020-04-23, 4124.0, 305.0\n",
      "2020-04-22, 3478.0, 310.0\n",
      "2020-04-21, 3581.0, 376.0\n",
      "2020-04-20, 3505.0, 175.0\n",
      "2020-04-19, 3881.0, 132.0\n",
      "2020-04-18, 2953.0, 230.0\n",
      "2020-04-17, 3150.0, 322.0\n",
      "2020-04-16, 4287.0, 362.0\n",
      "2020-04-15, 2206.0, 351.0\n",
      "2020-04-14, 4240.0, 362.0\n",
      "2020-04-13, 2734.0, 93.0\n",
      "2020-04-12, 3699.0, 167.0\n",
      "2020-04-11, 3563.0, 251.0\n",
      "2020-04-10, 3561.0, 232.0\n",
      "2020-04-09, 3590.0, 196.0\n",
      "2020-04-08, 3021.0, 272.0\n",
      "2020-04-07, 3326.0, 227.0\n",
      "2020-04-06, 3585.0, 88.0\n",
      "2020-04-05, 3381.0, 70.0\n",
      "2020-04-04, 4229.0, 200.0\n",
      "2020-04-03, 4305.0, 108.0\n",
      "2020-04-02, 3335.0, 184.0\n",
      "2020-04-01, 3559.0, 88.0\n",
      "2020-03-31, 2060.0, 68.0\n",
      "2020-03-30, 3250.0, 38.0\n",
      "2020-03-29, 2262.0, 21.0\n",
      "2020-03-28, 2299.0, 32.0\n",
      "2020-03-27, 1949.0, 26.0\n",
      "2020-03-26, 2474.0, 20.0\n",
      "2020-03-25, 727.0, 18.0\n",
      "2020-03-24, 831.0, 17.0\n",
      "2020-03-23, 930.0, 7.0\n",
      "2020-03-22, 577.0, 4.0\n",
      "2020-03-21, 440.0, 5.0\n",
      "2020-03-20, 160.0, 2.0\n",
      "2020-03-19, 305.0, 4.0\n",
      "2020-03-18, 156.0, 2.0\n",
      "2020-03-17, 89.0, 0.0\n",
      "2020-03-16, 73.0, 1.0\n",
      "2020-03-15, 23.0, 0.0\n",
      "2020-03-14, 24.0, 1.0\n",
      "2020-03-13, 20.0, 0.0\n",
      "2020-03-12, 3.0, 0.0\n",
      "2020-03-11, 6.0, 0.0\n",
      "2020-03-10, 2.0, 1.0\n",
      "2020-03-09, 1.0, 0.0\n",
      "2020-03-08, 1.0, 0.0\n",
      "2020-03-07, 0.0, 0.0\n",
      "2020-03-06, 1.0, 0.0\n",
      "2020-03-05, 1.0, 0.0\n",
      "2020-03-04, nan, nan\n"
     ]
    }
   ],
   "source": [
    "for i in state_df(\"New Jersey\").index.unique():\n",
    "    date = i.date()\n",
    "    cases = state_df(\"New Jersey\").xs(i)['cases_diff'].sum()\n",
    "    deaths = state_df(\"New Jersey\").xs(i)['deaths_diff'].sum()\n",
    "    print(\"{0}, {1}, {2}\".format(date, cases, deaths))"
   ]
  },
  {
   "cell_type": "code",
   "execution_count": 9,
   "metadata": {},
   "outputs": [
    {
     "data": {
      "text/plain": [
       "<AxesSubplot:xlabel='date'>"
      ]
     },
     "execution_count": 9,
     "metadata": {},
     "output_type": "execute_result"
    },
    {
     "data": {
      "image/png": "[encoded data removed]",
      "text/plain": [
       "<Figure size 432x288 with 1 Axes>"
      ]
     },
     "metadata": {
      "needs_background": "light"
     },
     "output_type": "display_data"
    }
   ],
   "source": [
    "daily_totals()['cases'].plot()"
   ]
  },
  {
   "cell_type": "code",
   "execution_count": 10,
   "metadata": {},
   "outputs": [
    {
     "data": {
      "text/plain": [
       "<AxesSubplot:xlabel='date'>"
      ]
     },
     "execution_count": 10,
     "metadata": {},
     "output_type": "execute_result"
    },
    {
     "data": {
      "image/png": "[encoded data removed]",
      "text/plain": [
       "<Figure size 432x288 with 1 Axes>"
      ]
     },
     "metadata": {
      "needs_background": "light"
     },
     "output_type": "display_data"
    }
   ],
   "source": [
    "daily_totals()['deaths'].plot()"
   ]
  },
  {
   "cell_type": "code",
   "execution_count": 11,
   "metadata": {},
   "outputs": [],
   "source": [
    "index = states\n",
    "data = {'cases': [state_df(state).xs(df.index[0])['cases_diff'].sum() for state in states],\n",
    "        'deaths': [state_df(state).xs(df.index[0])['deaths_diff'].sum() for state in states]}\n",
    "df3 = pd.DataFrame(data, index)"
   ]
  },
  {
   "cell_type": "code",
   "execution_count": 12,
   "metadata": {},
   "outputs": [
    {
     "data": {
      "text/html": [
       "<div>\n",
       "<style scoped>\n",
       "    .dataframe tbody tr th:only-of-type {\n",
       "        vertical-align: middle;\n",
       "    }\n",
       "\n",
       "    .dataframe tbody tr th {\n",
       "        vertical-align: top;\n",
       "    }\n",
       "\n",
       "    .dataframe thead th {\n",
       "        text-align: right;\n",
       "    }\n",
       "</style>\n",
       "<table border=\"1\" class=\"dataframe\">\n",
       "  <thead>\n",
       "    <tr style=\"text-align: right;\">\n",
       "      <th></th>\n",
       "      <th>cases</th>\n",
       "      <th>deaths</th>\n",
       "    </tr>\n",
       "  </thead>\n",
       "  <tbody>\n",
       "    <tr>\n",
       "      <th>California</th>\n",
       "      <td>27227.0</td>\n",
       "      <td>115.0</td>\n",
       "    </tr>\n",
       "    <tr>\n",
       "      <th>Texas</th>\n",
       "      <td>14020.0</td>\n",
       "      <td>71.0</td>\n",
       "    </tr>\n",
       "    <tr>\n",
       "      <th>Michigan</th>\n",
       "      <td>9557.0</td>\n",
       "      <td>102.0</td>\n",
       "    </tr>\n",
       "    <tr>\n",
       "      <th>Ohio</th>\n",
       "      <td>9273.0</td>\n",
       "      <td>63.0</td>\n",
       "    </tr>\n",
       "    <tr>\n",
       "      <th>Illinois</th>\n",
       "      <td>8867.0</td>\n",
       "      <td>107.0</td>\n",
       "    </tr>\n",
       "    <tr>\n",
       "      <th>Pennsylvania</th>\n",
       "      <td>8582.0</td>\n",
       "      <td>42.0</td>\n",
       "    </tr>\n",
       "    <tr>\n",
       "      <th>Connecticut</th>\n",
       "      <td>8129.0</td>\n",
       "      <td>78.0</td>\n",
       "    </tr>\n",
       "    <tr>\n",
       "      <th>Tennessee</th>\n",
       "      <td>7930.0</td>\n",
       "      <td>65.0</td>\n",
       "    </tr>\n",
       "    <tr>\n",
       "      <th>Florida</th>\n",
       "      <td>7711.0</td>\n",
       "      <td>105.0</td>\n",
       "    </tr>\n",
       "    <tr>\n",
       "      <th>New York</th>\n",
       "      <td>7318.0</td>\n",
       "      <td>85.0</td>\n",
       "    </tr>\n",
       "    <tr>\n",
       "      <th>Washington</th>\n",
       "      <td>5963.0</td>\n",
       "      <td>15.0</td>\n",
       "    </tr>\n",
       "    <tr>\n",
       "      <th>Kansas</th>\n",
       "      <td>5754.0</td>\n",
       "      <td>70.0</td>\n",
       "    </tr>\n",
       "    <tr>\n",
       "      <th>Indiana</th>\n",
       "      <td>5657.0</td>\n",
       "      <td>42.0</td>\n",
       "    </tr>\n",
       "    <tr>\n",
       "      <th>Minnesota</th>\n",
       "      <td>5290.0</td>\n",
       "      <td>21.0</td>\n",
       "    </tr>\n",
       "    <tr>\n",
       "      <th>Georgia</th>\n",
       "      <td>5119.0</td>\n",
       "      <td>43.0</td>\n",
       "    </tr>\n",
       "    <tr>\n",
       "      <th>North Carolina</th>\n",
       "      <td>4776.0</td>\n",
       "      <td>20.0</td>\n",
       "    </tr>\n",
       "    <tr>\n",
       "      <th>Missouri</th>\n",
       "      <td>4317.0</td>\n",
       "      <td>32.0</td>\n",
       "    </tr>\n",
       "    <tr>\n",
       "      <th>Colorado</th>\n",
       "      <td>4054.0</td>\n",
       "      <td>18.0</td>\n",
       "    </tr>\n",
       "    <tr>\n",
       "      <th>Virginia</th>\n",
       "      <td>3817.0</td>\n",
       "      <td>8.0</td>\n",
       "    </tr>\n",
       "    <tr>\n",
       "      <th>Rhode Island</th>\n",
       "      <td>3681.0</td>\n",
       "      <td>35.0</td>\n",
       "    </tr>\n",
       "    <tr>\n",
       "      <th>New Jersey</th>\n",
       "      <td>3563.0</td>\n",
       "      <td>15.0</td>\n",
       "    </tr>\n",
       "    <tr>\n",
       "      <th>South Carolina</th>\n",
       "      <td>2553.0</td>\n",
       "      <td>13.0</td>\n",
       "    </tr>\n",
       "    <tr>\n",
       "      <th>Massachusetts</th>\n",
       "      <td>2481.0</td>\n",
       "      <td>31.0</td>\n",
       "    </tr>\n",
       "    <tr>\n",
       "      <th>Nevada</th>\n",
       "      <td>2401.0</td>\n",
       "      <td>8.0</td>\n",
       "    </tr>\n",
       "    <tr>\n",
       "      <th>Alabama</th>\n",
       "      <td>2352.0</td>\n",
       "      <td>3.0</td>\n",
       "    </tr>\n",
       "    <tr>\n",
       "      <th>Wisconsin</th>\n",
       "      <td>2348.0</td>\n",
       "      <td>23.0</td>\n",
       "    </tr>\n",
       "    <tr>\n",
       "      <th>Maryland</th>\n",
       "      <td>2299.0</td>\n",
       "      <td>19.0</td>\n",
       "    </tr>\n",
       "    <tr>\n",
       "      <th>Kentucky</th>\n",
       "      <td>2271.0</td>\n",
       "      <td>26.0</td>\n",
       "    </tr>\n",
       "    <tr>\n",
       "      <th>Utah</th>\n",
       "      <td>2231.0</td>\n",
       "      <td>10.0</td>\n",
       "    </tr>\n",
       "    <tr>\n",
       "      <th>Arizona</th>\n",
       "      <td>2088.0</td>\n",
       "      <td>0.0</td>\n",
       "    </tr>\n",
       "    <tr>\n",
       "      <th>Oklahoma</th>\n",
       "      <td>1903.0</td>\n",
       "      <td>15.0</td>\n",
       "    </tr>\n",
       "    <tr>\n",
       "      <th>Idaho</th>\n",
       "      <td>1880.0</td>\n",
       "      <td>22.0</td>\n",
       "    </tr>\n",
       "    <tr>\n",
       "      <th>New Mexico</th>\n",
       "      <td>1859.0</td>\n",
       "      <td>7.0</td>\n",
       "    </tr>\n",
       "    <tr>\n",
       "      <th>Nebraska</th>\n",
       "      <td>1514.0</td>\n",
       "      <td>31.0</td>\n",
       "    </tr>\n",
       "    <tr>\n",
       "      <th>Oregon</th>\n",
       "      <td>1307.0</td>\n",
       "      <td>16.0</td>\n",
       "    </tr>\n",
       "    <tr>\n",
       "      <th>Iowa</th>\n",
       "      <td>1296.0</td>\n",
       "      <td>6.0</td>\n",
       "    </tr>\n",
       "    <tr>\n",
       "      <th>Mississippi</th>\n",
       "      <td>1263.0</td>\n",
       "      <td>0.0</td>\n",
       "    </tr>\n",
       "    <tr>\n",
       "      <th>West Virginia</th>\n",
       "      <td>1131.0</td>\n",
       "      <td>3.0</td>\n",
       "    </tr>\n",
       "    <tr>\n",
       "      <th>Arkansas</th>\n",
       "      <td>1118.0</td>\n",
       "      <td>53.0</td>\n",
       "    </tr>\n",
       "    <tr>\n",
       "      <th>New Hampshire</th>\n",
       "      <td>1045.0</td>\n",
       "      <td>2.0</td>\n",
       "    </tr>\n",
       "    <tr>\n",
       "      <th>Louisiana</th>\n",
       "      <td>1013.0</td>\n",
       "      <td>23.0</td>\n",
       "    </tr>\n",
       "    <tr>\n",
       "      <th>Puerto Rico</th>\n",
       "      <td>951.0</td>\n",
       "      <td>11.0</td>\n",
       "    </tr>\n",
       "    <tr>\n",
       "      <th>Delaware</th>\n",
       "      <td>799.0</td>\n",
       "      <td>0.0</td>\n",
       "    </tr>\n",
       "    <tr>\n",
       "      <th>Montana</th>\n",
       "      <td>776.0</td>\n",
       "      <td>7.0</td>\n",
       "    </tr>\n",
       "    <tr>\n",
       "      <th>Wyoming</th>\n",
       "      <td>668.0</td>\n",
       "      <td>23.0</td>\n",
       "    </tr>\n",
       "    <tr>\n",
       "      <th>South Dakota</th>\n",
       "      <td>509.0</td>\n",
       "      <td>0.0</td>\n",
       "    </tr>\n",
       "    <tr>\n",
       "      <th>Alaska</th>\n",
       "      <td>503.0</td>\n",
       "      <td>3.0</td>\n",
       "    </tr>\n",
       "    <tr>\n",
       "      <th>Maine</th>\n",
       "      <td>427.0</td>\n",
       "      <td>0.0</td>\n",
       "    </tr>\n",
       "    <tr>\n",
       "      <th>North Dakota</th>\n",
       "      <td>361.0</td>\n",
       "      <td>9.0</td>\n",
       "    </tr>\n",
       "    <tr>\n",
       "      <th>District of Columbia</th>\n",
       "      <td>183.0</td>\n",
       "      <td>4.0</td>\n",
       "    </tr>\n",
       "    <tr>\n",
       "      <th>Hawaii</th>\n",
       "      <td>78.0</td>\n",
       "      <td>0.0</td>\n",
       "    </tr>\n",
       "    <tr>\n",
       "      <th>Vermont</th>\n",
       "      <td>65.0</td>\n",
       "      <td>2.0</td>\n",
       "    </tr>\n",
       "    <tr>\n",
       "      <th>Virgin Islands</th>\n",
       "      <td>36.0</td>\n",
       "      <td>0.0</td>\n",
       "    </tr>\n",
       "    <tr>\n",
       "      <th>Guam</th>\n",
       "      <td>15.0</td>\n",
       "      <td>0.0</td>\n",
       "    </tr>\n",
       "    <tr>\n",
       "      <th>Northern Mariana Islands</th>\n",
       "      <td>3.0</td>\n",
       "      <td>0.0</td>\n",
       "    </tr>\n",
       "  </tbody>\n",
       "</table>\n",
       "</div>"
      ],
      "text/plain": [
       "                            cases  deaths\n",
       "California                27227.0   115.0\n",
       "Texas                     14020.0    71.0\n",
       "Michigan                   9557.0   102.0\n",
       "Ohio                       9273.0    63.0\n",
       "Illinois                   8867.0   107.0\n",
       "Pennsylvania               8582.0    42.0\n",
       "Connecticut                8129.0    78.0\n",
       "Tennessee                  7930.0    65.0\n",
       "Florida                    7711.0   105.0\n",
       "New York                   7318.0    85.0\n",
       "Washington                 5963.0    15.0\n",
       "Kansas                     5754.0    70.0\n",
       "Indiana                    5657.0    42.0\n",
       "Minnesota                  5290.0    21.0\n",
       "Georgia                    5119.0    43.0\n",
       "North Carolina             4776.0    20.0\n",
       "Missouri                   4317.0    32.0\n",
       "Colorado                   4054.0    18.0\n",
       "Virginia                   3817.0     8.0\n",
       "Rhode Island               3681.0    35.0\n",
       "New Jersey                 3563.0    15.0\n",
       "South Carolina             2553.0    13.0\n",
       "Massachusetts              2481.0    31.0\n",
       "Nevada                     2401.0     8.0\n",
       "Alabama                    2352.0     3.0\n",
       "Wisconsin                  2348.0    23.0\n",
       "Maryland                   2299.0    19.0\n",
       "Kentucky                   2271.0    26.0\n",
       "Utah                       2231.0    10.0\n",
       "Arizona                    2088.0     0.0\n",
       "Oklahoma                   1903.0    15.0\n",
       "Idaho                      1880.0    22.0\n",
       "New Mexico                 1859.0     7.0\n",
       "Nebraska                   1514.0    31.0\n",
       "Oregon                     1307.0    16.0\n",
       "Iowa                       1296.0     6.0\n",
       "Mississippi                1263.0     0.0\n",
       "West Virginia              1131.0     3.0\n",
       "Arkansas                   1118.0    53.0\n",
       "New Hampshire              1045.0     2.0\n",
       "Louisiana                  1013.0    23.0\n",
       "Puerto Rico                 951.0    11.0\n",
       "Delaware                    799.0     0.0\n",
       "Montana                     776.0     7.0\n",
       "Wyoming                     668.0    23.0\n",
       "South Dakota                509.0     0.0\n",
       "Alaska                      503.0     3.0\n",
       "Maine                       427.0     0.0\n",
       "North Dakota                361.0     9.0\n",
       "District of Columbia        183.0     4.0\n",
       "Hawaii                       78.0     0.0\n",
       "Vermont                      65.0     2.0\n",
       "Virgin Islands               36.0     0.0\n",
       "Guam                         15.0     0.0\n",
       "Northern Mariana Islands      3.0     0.0"
      ]
     },
     "execution_count": 12,
     "metadata": {},
     "output_type": "execute_result"
    }
   ],
   "source": [
    "df3.sort_values(['cases'], ascending=False)"
   ]
  },
  {
   "cell_type": "code",
   "execution_count": 4,
   "metadata": {},
   "outputs": [
    {
     "name": "stdout",
     "output_type": "stream",
     "text": [
      "Wyoming, 571.0, 27.0\n",
      "Kentucky, 3784.0, 61.0\n",
      "Louisiana, 2743.0, 23.0\n",
      "Maine, 346.0, 2.0\n",
      "Maryland, 2044.0, 49.0\n",
      "Iowa, 2563.0, 85.0\n",
      "Kansas, 632.0, 0.0\n",
      "Mississippi, 2168.0, 28.0\n",
      "Missouri, 4108.0, 89.0\n",
      "Montana, 843.0, 10.0\n",
      "Michigan, 8124.0, 192.0\n",
      "Massachusetts, 6675.0, 50.0\n",
      "Minnesota, 6149.0, 92.0\n",
      "Colorado, 5455.0, 109.0\n",
      "California, 21846.0, 146.0\n",
      "Florida, 10870.0, 98.0\n",
      "Georgia, 5538.0, 76.0\n",
      "District of Columbia, 322.0, 2.0\n",
      "Delaware, 758.0, 0.0\n",
      "Connecticut, 4751.0, 20.0\n",
      "Alabama, 3531.0, 65.0\n",
      "Alaska, 763.0, 8.0\n",
      "Arizona, 5209.0, 79.0\n",
      "Arkansas, 2789.0, 33.0\n",
      "Illinois, 11001.0, 217.0\n",
      "Indiana, 8460.0, 60.0\n",
      "Idaho, 1632.0, 21.0\n",
      "Hawaii, 139.0, 2.0\n",
      "Guam, 22.0, 0.0\n",
      "Texas, 17322.0, 223.0\n",
      "South Carolina, 2228.0, 22.0\n",
      "South Dakota, 1145.0, 38.0\n",
      "Tennessee, 3684.0, 92.0\n",
      "West Virginia, 1120.0, 11.0\n",
      "Washington, 2196.0, 61.0\n",
      "Virginia, 2023.0, 34.0\n",
      "Wisconsin, 5604.0, 66.0\n",
      "Vermont, 181.0, 1.0\n",
      "Utah, 4035.0, 12.0\n",
      "Virgin Islands, 0.0, 0.0\n",
      "New York, 9853.0, 60.0\n",
      "North Carolina, 5845.0, 48.0\n",
      "New Mexico, 1910.0, 44.0\n",
      "North Dakota, 970.0, 11.0\n",
      "Nebraska, 2180.0, 42.0\n",
      "New Hampshire, 593.0, 7.0\n",
      "New Jersey, 4793.0, 64.0\n",
      "Nevada, 2731.0, 34.0\n",
      "Pennsylvania, 11268.0, 205.0\n",
      "Puerto Rico, 397.0, 11.0\n",
      "Oregon, 1088.0, 12.0\n",
      "Rhode Island, 1717.0, 9.0\n",
      "Ohio, 8931.0, 82.0\n",
      "Northern Mariana Islands, 0.0, 0.0\n",
      "Oklahoma, 1707.0, 24.0\n"
     ]
    }
   ],
   "source": [
    "for state in states:\n",
    "    cases = state_df(state).xs(df.index[0])['cases_diff'].sum()\n",
    "    deaths = state_df(state).xs(df.index[0])['deaths_diff'].sum()\n",
    "    print(\"{0}, {1}, {2}\".format(state, cases, deaths))"
   ]
  },
  {
   "cell_type": "code",
   "execution_count": 10,
   "metadata": {},
   "outputs": [
    {
     "data": {
      "text/html": [
       "<div>\n",
       "<style scoped>\n",
       "    .dataframe tbody tr th:only-of-type {\n",
       "        vertical-align: middle;\n",
       "    }\n",
       "\n",
       "    .dataframe tbody tr th {\n",
       "        vertical-align: top;\n",
       "    }\n",
       "\n",
       "    .dataframe thead th {\n",
       "        text-align: right;\n",
       "    }\n",
       "</style>\n",
       "<table border=\"1\" class=\"dataframe\">\n",
       "  <thead>\n",
       "    <tr style=\"text-align: right;\">\n",
       "      <th></th>\n",
       "      <th>county</th>\n",
       "      <th>state</th>\n",
       "      <th>cases</th>\n",
       "      <th>deaths</th>\n",
       "      <th>cases_diff</th>\n",
       "      <th>deaths_diff</th>\n",
       "      <th>pct_change</th>\n",
       "    </tr>\n",
       "    <tr>\n",
       "      <th>date</th>\n",
       "      <th></th>\n",
       "      <th></th>\n",
       "      <th></th>\n",
       "      <th></th>\n",
       "      <th></th>\n",
       "      <th></th>\n",
       "      <th></th>\n",
       "    </tr>\n",
       "  </thead>\n",
       "  <tbody>\n",
       "    <tr>\n",
       "      <th>2020-12-03</th>\n",
       "      <td>Bergen</td>\n",
       "      <td>New Jersey</td>\n",
       "      <td>36478</td>\n",
       "      <td>2153.0</td>\n",
       "      <td>500.0</td>\n",
       "      <td>8.0</td>\n",
       "      <td>0.013897</td>\n",
       "    </tr>\n",
       "    <tr>\n",
       "      <th>2020-12-03</th>\n",
       "      <td>Essex</td>\n",
       "      <td>New Jersey</td>\n",
       "      <td>36787</td>\n",
       "      <td>2250.0</td>\n",
       "      <td>472.0</td>\n",
       "      <td>10.0</td>\n",
       "      <td>0.012997</td>\n",
       "    </tr>\n",
       "    <tr>\n",
       "      <th>2020-12-03</th>\n",
       "      <td>Middlesex</td>\n",
       "      <td>New Jersey</td>\n",
       "      <td>32233</td>\n",
       "      <td>1508.0</td>\n",
       "      <td>450.0</td>\n",
       "      <td>8.0</td>\n",
       "      <td>0.014159</td>\n",
       "    </tr>\n",
       "    <tr>\n",
       "      <th>2020-12-03</th>\n",
       "      <td>Hudson</td>\n",
       "      <td>New Jersey</td>\n",
       "      <td>33057</td>\n",
       "      <td>1596.0</td>\n",
       "      <td>433.0</td>\n",
       "      <td>9.0</td>\n",
       "      <td>0.013272</td>\n",
       "    </tr>\n",
       "    <tr>\n",
       "      <th>2020-12-03</th>\n",
       "      <td>Camden</td>\n",
       "      <td>New Jersey</td>\n",
       "      <td>20288</td>\n",
       "      <td>688.0</td>\n",
       "      <td>389.0</td>\n",
       "      <td>1.0</td>\n",
       "      <td>0.019549</td>\n",
       "    </tr>\n",
       "    <tr>\n",
       "      <th>2020-12-03</th>\n",
       "      <td>Ocean</td>\n",
       "      <td>New Jersey</td>\n",
       "      <td>22986</td>\n",
       "      <td>1145.0</td>\n",
       "      <td>373.0</td>\n",
       "      <td>10.0</td>\n",
       "      <td>0.016495</td>\n",
       "    </tr>\n",
       "    <tr>\n",
       "      <th>2020-12-03</th>\n",
       "      <td>Monmouth</td>\n",
       "      <td>New Jersey</td>\n",
       "      <td>21713</td>\n",
       "      <td>912.0</td>\n",
       "      <td>354.0</td>\n",
       "      <td>2.0</td>\n",
       "      <td>0.016574</td>\n",
       "    </tr>\n",
       "    <tr>\n",
       "      <th>2020-12-03</th>\n",
       "      <td>Union</td>\n",
       "      <td>New Jersey</td>\n",
       "      <td>29466</td>\n",
       "      <td>1444.0</td>\n",
       "      <td>326.0</td>\n",
       "      <td>3.0</td>\n",
       "      <td>0.011187</td>\n",
       "    </tr>\n",
       "    <tr>\n",
       "      <th>2020-12-03</th>\n",
       "      <td>Passaic</td>\n",
       "      <td>New Jersey</td>\n",
       "      <td>31484</td>\n",
       "      <td>1329.0</td>\n",
       "      <td>293.0</td>\n",
       "      <td>5.0</td>\n",
       "      <td>0.009394</td>\n",
       "    </tr>\n",
       "    <tr>\n",
       "      <th>2020-12-03</th>\n",
       "      <td>Gloucester</td>\n",
       "      <td>New Jersey</td>\n",
       "      <td>9554</td>\n",
       "      <td>295.0</td>\n",
       "      <td>216.0</td>\n",
       "      <td>4.0</td>\n",
       "      <td>0.023131</td>\n",
       "    </tr>\n",
       "    <tr>\n",
       "      <th>2020-12-03</th>\n",
       "      <td>Mercer</td>\n",
       "      <td>New Jersey</td>\n",
       "      <td>14383</td>\n",
       "      <td>665.0</td>\n",
       "      <td>177.0</td>\n",
       "      <td>1.0</td>\n",
       "      <td>0.012460</td>\n",
       "    </tr>\n",
       "    <tr>\n",
       "      <th>2020-12-03</th>\n",
       "      <td>Burlington</td>\n",
       "      <td>New Jersey</td>\n",
       "      <td>14418</td>\n",
       "      <td>548.0</td>\n",
       "      <td>171.0</td>\n",
       "      <td>1.0</td>\n",
       "      <td>0.012003</td>\n",
       "    </tr>\n",
       "    <tr>\n",
       "      <th>2020-12-03</th>\n",
       "      <td>Morris</td>\n",
       "      <td>New Jersey</td>\n",
       "      <td>14406</td>\n",
       "      <td>865.0</td>\n",
       "      <td>140.0</td>\n",
       "      <td>0.0</td>\n",
       "      <td>0.009814</td>\n",
       "    </tr>\n",
       "    <tr>\n",
       "      <th>2020-12-03</th>\n",
       "      <td>Somerset</td>\n",
       "      <td>New Jersey</td>\n",
       "      <td>9558</td>\n",
       "      <td>613.0</td>\n",
       "      <td>122.0</td>\n",
       "      <td>0.0</td>\n",
       "      <td>0.012929</td>\n",
       "    </tr>\n",
       "    <tr>\n",
       "      <th>2020-12-03</th>\n",
       "      <td>Atlantic</td>\n",
       "      <td>New Jersey</td>\n",
       "      <td>8355</td>\n",
       "      <td>302.0</td>\n",
       "      <td>121.0</td>\n",
       "      <td>1.0</td>\n",
       "      <td>0.014695</td>\n",
       "    </tr>\n",
       "    <tr>\n",
       "      <th>2020-12-03</th>\n",
       "      <td>Cumberland</td>\n",
       "      <td>New Jersey</td>\n",
       "      <td>5313</td>\n",
       "      <td>182.0</td>\n",
       "      <td>85.0</td>\n",
       "      <td>0.0</td>\n",
       "      <td>0.016259</td>\n",
       "    </tr>\n",
       "    <tr>\n",
       "      <th>2020-12-03</th>\n",
       "      <td>Sussex</td>\n",
       "      <td>New Jersey</td>\n",
       "      <td>2772</td>\n",
       "      <td>200.0</td>\n",
       "      <td>47.0</td>\n",
       "      <td>0.0</td>\n",
       "      <td>0.017248</td>\n",
       "    </tr>\n",
       "    <tr>\n",
       "      <th>2020-12-03</th>\n",
       "      <td>Warren</td>\n",
       "      <td>New Jersey</td>\n",
       "      <td>2629</td>\n",
       "      <td>173.0</td>\n",
       "      <td>46.0</td>\n",
       "      <td>0.0</td>\n",
       "      <td>0.017809</td>\n",
       "    </tr>\n",
       "    <tr>\n",
       "      <th>2020-12-03</th>\n",
       "      <td>Hunterdon</td>\n",
       "      <td>New Jersey</td>\n",
       "      <td>2665</td>\n",
       "      <td>132.0</td>\n",
       "      <td>34.0</td>\n",
       "      <td>0.0</td>\n",
       "      <td>0.012923</td>\n",
       "    </tr>\n",
       "    <tr>\n",
       "      <th>2020-12-03</th>\n",
       "      <td>Salem</td>\n",
       "      <td>New Jersey</td>\n",
       "      <td>1731</td>\n",
       "      <td>94.0</td>\n",
       "      <td>28.0</td>\n",
       "      <td>0.0</td>\n",
       "      <td>0.016442</td>\n",
       "    </tr>\n",
       "    <tr>\n",
       "      <th>2020-12-03</th>\n",
       "      <td>Cape May</td>\n",
       "      <td>New Jersey</td>\n",
       "      <td>1738</td>\n",
       "      <td>115.0</td>\n",
       "      <td>25.0</td>\n",
       "      <td>1.0</td>\n",
       "      <td>0.014594</td>\n",
       "    </tr>\n",
       "    <tr>\n",
       "      <th>2020-12-03</th>\n",
       "      <td>Unknown</td>\n",
       "      <td>New Jersey</td>\n",
       "      <td>821</td>\n",
       "      <td>0.0</td>\n",
       "      <td>-9.0</td>\n",
       "      <td>0.0</td>\n",
       "      <td>-0.010843</td>\n",
       "    </tr>\n",
       "  </tbody>\n",
       "</table>\n",
       "</div>"
      ],
      "text/plain": [
       "                county       state  cases  deaths  cases_diff  deaths_diff  \\\n",
       "date                                                                         \n",
       "2020-12-03      Bergen  New Jersey  36478  2153.0       500.0          8.0   \n",
       "2020-12-03       Essex  New Jersey  36787  2250.0       472.0         10.0   \n",
       "2020-12-03   Middlesex  New Jersey  32233  1508.0       450.0          8.0   \n",
       "2020-12-03      Hudson  New Jersey  33057  1596.0       433.0          9.0   \n",
       "2020-12-03      Camden  New Jersey  20288   688.0       389.0          1.0   \n",
       "2020-12-03       Ocean  New Jersey  22986  1145.0       373.0         10.0   \n",
       "2020-12-03    Monmouth  New Jersey  21713   912.0       354.0          2.0   \n",
       "2020-12-03       Union  New Jersey  29466  1444.0       326.0          3.0   \n",
       "2020-12-03     Passaic  New Jersey  31484  1329.0       293.0          5.0   \n",
       "2020-12-03  Gloucester  New Jersey   9554   295.0       216.0          4.0   \n",
       "2020-12-03      Mercer  New Jersey  14383   665.0       177.0          1.0   \n",
       "2020-12-03  Burlington  New Jersey  14418   548.0       171.0          1.0   \n",
       "2020-12-03      Morris  New Jersey  14406   865.0       140.0          0.0   \n",
       "2020-12-03    Somerset  New Jersey   9558   613.0       122.0          0.0   \n",
       "2020-12-03    Atlantic  New Jersey   8355   302.0       121.0          1.0   \n",
       "2020-12-03  Cumberland  New Jersey   5313   182.0        85.0          0.0   \n",
       "2020-12-03      Sussex  New Jersey   2772   200.0        47.0          0.0   \n",
       "2020-12-03      Warren  New Jersey   2629   173.0        46.0          0.0   \n",
       "2020-12-03   Hunterdon  New Jersey   2665   132.0        34.0          0.0   \n",
       "2020-12-03       Salem  New Jersey   1731    94.0        28.0          0.0   \n",
       "2020-12-03    Cape May  New Jersey   1738   115.0        25.0          1.0   \n",
       "2020-12-03     Unknown  New Jersey    821     0.0        -9.0          0.0   \n",
       "\n",
       "            pct_change  \n",
       "date                    \n",
       "2020-12-03    0.013897  \n",
       "2020-12-03    0.012997  \n",
       "2020-12-03    0.014159  \n",
       "2020-12-03    0.013272  \n",
       "2020-12-03    0.019549  \n",
       "2020-12-03    0.016495  \n",
       "2020-12-03    0.016574  \n",
       "2020-12-03    0.011187  \n",
       "2020-12-03    0.009394  \n",
       "2020-12-03    0.023131  \n",
       "2020-12-03    0.012460  \n",
       "2020-12-03    0.012003  \n",
       "2020-12-03    0.009814  \n",
       "2020-12-03    0.012929  \n",
       "2020-12-03    0.014695  \n",
       "2020-12-03    0.016259  \n",
       "2020-12-03    0.017248  \n",
       "2020-12-03    0.017809  \n",
       "2020-12-03    0.012923  \n",
       "2020-12-03    0.016442  \n",
       "2020-12-03    0.014594  \n",
       "2020-12-03   -0.010843  "
      ]
     },
     "execution_count": 10,
     "metadata": {},
     "output_type": "execute_result"
    }
   ],
   "source": [
    "state_df(\"New Jersey\").xs(df.index[0]).sort_values(by=['cases_diff'], ascending=False)"
   ]
  },
  {
   "cell_type": "code",
   "execution_count": 17,
   "metadata": {},
   "outputs": [
    {
     "data": {
      "text/plain": [
       "<AxesSubplot:xlabel='date'>"
      ]
     },
     "execution_count": 17,
     "metadata": {},
     "output_type": "execute_result"
    },
    {
     "data": {
      "image/png": "[encoded data removed]",
      "text/plain": [
       "<Figure size 432x288 with 1 Axes>"
      ]
     },
     "metadata": {
      "needs_background": "light"
     },
     "output_type": "display_data"
    }
   ],
   "source": [
    "state_df(\"New Jersey\")['cases_diff'].plot()"
   ]
  },
  {
   "cell_type": "code",
   "execution_count": 18,
   "metadata": {},
   "outputs": [
    {
     "data": {
      "text/plain": [
       "<AxesSubplot:xlabel='date'>"
      ]
     },
     "execution_count": 18,
     "metadata": {},
     "output_type": "execute_result"
    },
    {
     "data": {
      "image/png": "[encoded data removed]",
      "text/plain": [
       "<Figure size 432x288 with 1 Axes>"
      ]
     },
     "metadata": {
      "needs_background": "light"
     },
     "output_type": "display_data"
    }
   ],
   "source": [
    "county_df(\"Bergen\")['cases_diff'].plot()"
   ]
  },
  {
   "cell_type": "code",
   "execution_count": 19,
   "metadata": {},
   "outputs": [
    {
     "data": {
      "text/plain": [
       "343707.0"
      ]
     },
     "execution_count": 19,
     "metadata": {},
     "output_type": "execute_result"
    }
   ],
   "source": [
    "state_df(\"New Jersey\").sort_values(by=['cases_diff'], ascending=False)['cases_diff'].sum()"
   ]
  },
  {
   "cell_type": "code",
   "execution_count": 43,
   "metadata": {},
   "outputs": [
    {
     "data": {
      "text/plain": [
       "<AxesSubplot:xlabel='date'>"
      ]
     },
     "execution_count": 43,
     "metadata": {},
     "output_type": "execute_result"
    },
    {
     "data": {
      "image/png": "[encoded data removed]",
      "text/plain": [
       "<Figure size 432x288 with 1 Axes>"
      ]
     },
     "metadata": {
      "needs_background": "light"
     },
     "output_type": "display_data"
    }
   ],
   "source": [
    "county_df(\"Bergen\").sort_index(ascending=True).plot()"
   ]
  },
  {
   "cell_type": "code",
   "execution_count": 44,
   "metadata": {},
   "outputs": [
    {
     "data": {
      "text/plain": [
       "<AxesSubplot:xlabel='date'>"
      ]
     },
     "execution_count": 44,
     "metadata": {},
     "output_type": "execute_result"
    },
    {
     "data": {
      "image/png": "[encoded data removed]",
      "text/plain": [
       "<Figure size 432x288 with 1 Axes>"
      ]
     },
     "metadata": {
      "needs_background": "light"
     },
     "output_type": "display_data"
    }
   ],
   "source": [
    "county_df(\"New York City\").sort_index(ascending=True).plot()"
   ]
  },
  {
   "cell_type": "code",
   "execution_count": 45,
   "metadata": {},
   "outputs": [
    {
     "data": {
      "text/plain": [
       "<AxesSubplot:xlabel='date'>"
      ]
     },
     "execution_count": 45,
     "metadata": {},
     "output_type": "execute_result"
    },
    {
     "data": {
      "image/png": "[encoded data removed]",
      "text/plain": [
       "<Figure size 432x288 with 1 Axes>"
      ]
     },
     "metadata": {
      "needs_background": "light"
     },
     "output_type": "display_data"
    }
   ],
   "source": [
    "county_df(\"New York City\").cases_diff.plot()"
   ]
  },
  {
   "cell_type": "code",
   "execution_count": 46,
   "metadata": {},
   "outputs": [
    {
     "data": {
      "text/plain": [
       "<AxesSubplot:xlabel='date'>"
      ]
     },
     "execution_count": 46,
     "metadata": {},
     "output_type": "execute_result"
    },
    {
     "data": {
      "image/png": "[encoded data removed]",
      "text/plain": [
       "<Figure size 432x288 with 1 Axes>"
      ]
     },
     "metadata": {
      "needs_background": "light"
     },
     "output_type": "display_data"
    }
   ],
   "source": [
    "county_df(\"New York City\").deaths_diff.plot()"
   ]
  },
  {
   "cell_type": "code",
   "execution_count": 50,
   "metadata": {},
   "outputs": [
    {
     "data": {
      "text/plain": [
       "('Monday', '07', 'December')"
      ]
     },
     "execution_count": 50,
     "metadata": {},
     "output_type": "execute_result"
    }
   ],
   "source": [
    "df.index.date[0].strftime(\"%A\"), df.index.date[0].strftime(\"%d\"), df.index.date[0].strftime(\"%B\")"
   ]
  },
  {
   "cell_type": "markdown",
   "metadata": {},
   "source": [
    "#### list comprehension into separate dataframe?"
   ]
  },
  {
   "cell_type": "code",
   "execution_count": 29,
   "metadata": {},
   "outputs": [
    {
     "name": "stdout",
     "output_type": "stream",
     "text": [
      "November\n",
      "October\n",
      "September\n",
      "August\n",
      "July\n",
      "June\n",
      "May\n",
      "April\n",
      "March\n",
      "February\n",
      "January\n"
     ]
    }
   ],
   "source": [
    "for month in df.index.strftime(\"%B\").unique():\n",
    "    print(month)"
   ]
  },
  {
   "cell_type": "code",
   "execution_count": 9,
   "metadata": {},
   "outputs": [
    {
     "name": "stdout",
     "output_type": "stream",
     "text": [
      "11 4411981.0\n",
      "10 1946627.0\n",
      "9 1217119.0\n",
      "8 1473763.0\n",
      "7 1917749.0\n",
      "6 852437.0\n",
      "5 721813.0\n",
      "4 886531.0\n",
      "3 185327.0\n",
      "2 34.0\n",
      "1 1.0\n"
     ]
    }
   ],
   "source": [
    "for month in df.index.month.unique():\n",
    "    print(month, df[df.index.month == month]['cases_diff'].sum())"
   ]
  },
  {
   "cell_type": "code",
   "execution_count": 24,
   "metadata": {},
   "outputs": [
    {
     "name": "stdout",
     "output_type": "stream",
     "text": [
      "49 351939.0\n",
      "48 1134051.0\n",
      "47 1199731.0\n",
      "46 1052521.0\n",
      "45 783697.0\n",
      "44 580267.0\n",
      "43 489173.0\n",
      "42 398390.0\n",
      "41 370208.0\n",
      "40 305972.0\n",
      "39 313471.0\n",
      "38 287735.0\n",
      "37 245475.0\n",
      "36 283766.0\n",
      "35 295135.0\n",
      "34 296183.0\n",
      "33 361201.0\n",
      "32 377139.0\n",
      "31 434918.0\n",
      "30 458787.0\n",
      "29 465424.0\n",
      "28 407471.0\n",
      "27 346667.0\n",
      "26 271399.0\n",
      "25 187867.0\n",
      "24 151167.0\n",
      "23 154104.0\n",
      "22 147870.0\n",
      "21 157697.0\n",
      "20 157061.0\n",
      "19 169385.0\n",
      "18 194502.0\n",
      "17 213367.0\n",
      "16 199454.0\n",
      "15 219768.0\n",
      "14 194865.0\n",
      "13 108172.0\n",
      "12 28537.0\n",
      "11 2630.0\n",
      "10 351.0\n",
      "9 41.0\n",
      "8 3.0\n",
      "7 1.0\n",
      "6 0.0\n",
      "5 2.0\n",
      "4 0.0\n"
     ]
    }
   ],
   "source": [
    "for week in df.index.isocalendar().week.unique():\n",
    "    print(week, df[df.index.isocalendar().week == week]['cases_diff'].sum())"
   ]
  },
  {
   "cell_type": "code",
   "execution_count": 17,
   "metadata": {},
   "outputs": [
    {
     "data": {
      "text/html": [
       "<div>\n",
       "<style scoped>\n",
       "    .dataframe tbody tr th:only-of-type {\n",
       "        vertical-align: middle;\n",
       "    }\n",
       "\n",
       "    .dataframe tbody tr th {\n",
       "        vertical-align: top;\n",
       "    }\n",
       "\n",
       "    .dataframe thead th {\n",
       "        text-align: right;\n",
       "    }\n",
       "</style>\n",
       "<table border=\"1\" class=\"dataframe\">\n",
       "  <thead>\n",
       "    <tr style=\"text-align: right;\">\n",
       "      <th></th>\n",
       "      <th>county</th>\n",
       "      <th>state</th>\n",
       "      <th>fips</th>\n",
       "      <th>cases</th>\n",
       "      <th>deaths</th>\n",
       "      <th>cases_diff</th>\n",
       "      <th>deaths_diff</th>\n",
       "      <th>pct_change</th>\n",
       "    </tr>\n",
       "    <tr>\n",
       "      <th>date</th>\n",
       "      <th></th>\n",
       "      <th></th>\n",
       "      <th></th>\n",
       "      <th></th>\n",
       "      <th></th>\n",
       "      <th></th>\n",
       "      <th></th>\n",
       "      <th></th>\n",
       "    </tr>\n",
       "  </thead>\n",
       "  <tbody>\n",
       "    <tr>\n",
       "      <th>2020-01-26</th>\n",
       "      <td>Snohomish</td>\n",
       "      <td>Washington</td>\n",
       "      <td>53061.0</td>\n",
       "      <td>1</td>\n",
       "      <td>0</td>\n",
       "      <td>0.0</td>\n",
       "      <td>0.0</td>\n",
       "      <td>0.0</td>\n",
       "    </tr>\n",
       "    <tr>\n",
       "      <th>2020-01-26</th>\n",
       "      <td>Cook</td>\n",
       "      <td>Illinois</td>\n",
       "      <td>17031.0</td>\n",
       "      <td>1</td>\n",
       "      <td>0</td>\n",
       "      <td>0.0</td>\n",
       "      <td>0.0</td>\n",
       "      <td>0.0</td>\n",
       "    </tr>\n",
       "    <tr>\n",
       "      <th>2020-01-26</th>\n",
       "      <td>Orange</td>\n",
       "      <td>California</td>\n",
       "      <td>6059.0</td>\n",
       "      <td>1</td>\n",
       "      <td>0</td>\n",
       "      <td>0.0</td>\n",
       "      <td>0.0</td>\n",
       "      <td>0.0</td>\n",
       "    </tr>\n",
       "    <tr>\n",
       "      <th>2020-01-26</th>\n",
       "      <td>Los Angeles</td>\n",
       "      <td>California</td>\n",
       "      <td>6037.0</td>\n",
       "      <td>1</td>\n",
       "      <td>0</td>\n",
       "      <td>NaN</td>\n",
       "      <td>NaN</td>\n",
       "      <td>NaN</td>\n",
       "    </tr>\n",
       "    <tr>\n",
       "      <th>2020-01-26</th>\n",
       "      <td>Maricopa</td>\n",
       "      <td>Arizona</td>\n",
       "      <td>4013.0</td>\n",
       "      <td>1</td>\n",
       "      <td>0</td>\n",
       "      <td>NaN</td>\n",
       "      <td>NaN</td>\n",
       "      <td>NaN</td>\n",
       "    </tr>\n",
       "    <tr>\n",
       "      <th>2020-01-25</th>\n",
       "      <td>Snohomish</td>\n",
       "      <td>Washington</td>\n",
       "      <td>53061.0</td>\n",
       "      <td>1</td>\n",
       "      <td>0</td>\n",
       "      <td>0.0</td>\n",
       "      <td>0.0</td>\n",
       "      <td>0.0</td>\n",
       "    </tr>\n",
       "    <tr>\n",
       "      <th>2020-01-25</th>\n",
       "      <td>Cook</td>\n",
       "      <td>Illinois</td>\n",
       "      <td>17031.0</td>\n",
       "      <td>1</td>\n",
       "      <td>0</td>\n",
       "      <td>0.0</td>\n",
       "      <td>0.0</td>\n",
       "      <td>0.0</td>\n",
       "    </tr>\n",
       "    <tr>\n",
       "      <th>2020-01-25</th>\n",
       "      <td>Orange</td>\n",
       "      <td>California</td>\n",
       "      <td>6059.0</td>\n",
       "      <td>1</td>\n",
       "      <td>0</td>\n",
       "      <td>NaN</td>\n",
       "      <td>NaN</td>\n",
       "      <td>NaN</td>\n",
       "    </tr>\n",
       "    <tr>\n",
       "      <th>2020-01-24</th>\n",
       "      <td>Snohomish</td>\n",
       "      <td>Washington</td>\n",
       "      <td>53061.0</td>\n",
       "      <td>1</td>\n",
       "      <td>0</td>\n",
       "      <td>0.0</td>\n",
       "      <td>0.0</td>\n",
       "      <td>0.0</td>\n",
       "    </tr>\n",
       "    <tr>\n",
       "      <th>2020-01-24</th>\n",
       "      <td>Cook</td>\n",
       "      <td>Illinois</td>\n",
       "      <td>17031.0</td>\n",
       "      <td>1</td>\n",
       "      <td>0</td>\n",
       "      <td>NaN</td>\n",
       "      <td>NaN</td>\n",
       "      <td>NaN</td>\n",
       "    </tr>\n",
       "    <tr>\n",
       "      <th>2020-01-23</th>\n",
       "      <td>Snohomish</td>\n",
       "      <td>Washington</td>\n",
       "      <td>53061.0</td>\n",
       "      <td>1</td>\n",
       "      <td>0</td>\n",
       "      <td>0.0</td>\n",
       "      <td>0.0</td>\n",
       "      <td>0.0</td>\n",
       "    </tr>\n",
       "    <tr>\n",
       "      <th>2020-01-22</th>\n",
       "      <td>Snohomish</td>\n",
       "      <td>Washington</td>\n",
       "      <td>53061.0</td>\n",
       "      <td>1</td>\n",
       "      <td>0</td>\n",
       "      <td>0.0</td>\n",
       "      <td>0.0</td>\n",
       "      <td>0.0</td>\n",
       "    </tr>\n",
       "    <tr>\n",
       "      <th>2020-01-21</th>\n",
       "      <td>Snohomish</td>\n",
       "      <td>Washington</td>\n",
       "      <td>53061.0</td>\n",
       "      <td>1</td>\n",
       "      <td>0</td>\n",
       "      <td>NaN</td>\n",
       "      <td>NaN</td>\n",
       "      <td>NaN</td>\n",
       "    </tr>\n",
       "  </tbody>\n",
       "</table>\n",
       "</div>"
      ],
      "text/plain": [
       "                 county       state     fips  cases  deaths  cases_diff  \\\n",
       "date                                                                      \n",
       "2020-01-26    Snohomish  Washington  53061.0      1       0         0.0   \n",
       "2020-01-26         Cook    Illinois  17031.0      1       0         0.0   \n",
       "2020-01-26       Orange  California   6059.0      1       0         0.0   \n",
       "2020-01-26  Los Angeles  California   6037.0      1       0         NaN   \n",
       "2020-01-26     Maricopa     Arizona   4013.0      1       0         NaN   \n",
       "2020-01-25    Snohomish  Washington  53061.0      1       0         0.0   \n",
       "2020-01-25         Cook    Illinois  17031.0      1       0         0.0   \n",
       "2020-01-25       Orange  California   6059.0      1       0         NaN   \n",
       "2020-01-24    Snohomish  Washington  53061.0      1       0         0.0   \n",
       "2020-01-24         Cook    Illinois  17031.0      1       0         NaN   \n",
       "2020-01-23    Snohomish  Washington  53061.0      1       0         0.0   \n",
       "2020-01-22    Snohomish  Washington  53061.0      1       0         0.0   \n",
       "2020-01-21    Snohomish  Washington  53061.0      1       0         NaN   \n",
       "\n",
       "            deaths_diff  pct_change  \n",
       "date                                 \n",
       "2020-01-26          0.0         0.0  \n",
       "2020-01-26          0.0         0.0  \n",
       "2020-01-26          0.0         0.0  \n",
       "2020-01-26          NaN         NaN  \n",
       "2020-01-26          NaN         NaN  \n",
       "2020-01-25          0.0         0.0  \n",
       "2020-01-25          0.0         0.0  \n",
       "2020-01-25          NaN         NaN  \n",
       "2020-01-24          0.0         0.0  \n",
       "2020-01-24          NaN         NaN  \n",
       "2020-01-23          0.0         0.0  \n",
       "2020-01-22          0.0         0.0  \n",
       "2020-01-21          NaN         NaN  "
      ]
     },
     "execution_count": 17,
     "metadata": {},
     "output_type": "execute_result"
    }
   ],
   "source": [
    "df[df.index.isocalendar().week == df.index.isocalendar().week[-1]]"
   ]
  },
  {
   "cell_type": "markdown",
   "metadata": {},
   "source": [
    "#### Alternate method for finding total cases:"
   ]
  },
  {
   "cell_type": "code",
   "execution_count": 18,
   "metadata": {},
   "outputs": [
    {
     "data": {
      "text/plain": [
       "12492056"
      ]
     },
     "execution_count": 18,
     "metadata": {},
     "output_type": "execute_result"
    }
   ],
   "source": [
    "df[df.index.dayofyear == df.index.dayofyear.max()]['cases'].sum()"
   ]
  },
  {
   "cell_type": "markdown",
   "metadata": {},
   "source": [
    "##### last day of the first week"
   ]
  },
  {
   "cell_type": "code",
   "execution_count": 19,
   "metadata": {},
   "outputs": [
    {
     "data": {
      "text/plain": [
       "datetime.date(2020, 1, 26)"
      ]
     },
     "execution_count": 19,
     "metadata": {},
     "output_type": "execute_result"
    }
   ],
   "source": [
    "df[df.index.isocalendar().week == df.index.isocalendar().week[-1]].index.max().date()"
   ]
  },
  {
   "cell_type": "code",
   "execution_count": 17,
   "metadata": {},
   "outputs": [
    {
     "data": {
      "text/plain": [
       "('12/06/20', 6030.0, 15.0)"
      ]
     },
     "execution_count": 17,
     "metadata": {},
     "output_type": "execute_result"
    }
   ],
   "source": [
    "df.index[0].strftime(\"%D\"), state_df('New Jersey').xs(df.index[0])['cases_diff'].sum(), state_df('New Jersey').xs(df.index[0])['deaths_diff'].sum()"
   ]
  },
  {
   "cell_type": "code",
   "execution_count": 21,
   "metadata": {},
   "outputs": [
    {
     "data": {
      "text/plain": [
       "<AxesSubplot:xlabel='date'>"
      ]
     },
     "execution_count": 21,
     "metadata": {},
     "output_type": "execute_result"
    },
    {
     "data": {
      "image/png": "[encoded data removed]",
      "text/plain": [
       "<Figure size 432x288 with 1 Axes>"
      ]
     },
     "metadata": {
      "needs_background": "light"
     },
     "output_type": "display_data"
    }
   ],
   "source": [
    "county_df(\"Bergen\").plot()"
   ]
  },
  {
   "cell_type": "code",
   "execution_count": 22,
   "metadata": {},
   "outputs": [
    {
     "data": {
      "text/plain": [
       "<AxesSubplot:xlabel='date'>"
      ]
     },
     "execution_count": 22,
     "metadata": {},
     "output_type": "execute_result"
    },
    {
     "data": {
      "image/png": "[encoded data removed]",
      "text/plain": [
       "<Figure size 432x288 with 1 Axes>"
      ]
     },
     "metadata": {
      "needs_background": "light"
     },
     "output_type": "display_data"
    }
   ],
   "source": [
    "df[(df.index.month >= 4) & (df.state == 'New Jersey') & (df.county == 'Bergen')].drop(columns=['fips']).plot()"
   ]
  },
  {
   "cell_type": "code",
   "execution_count": 23,
   "metadata": {},
   "outputs": [
    {
     "data": {
      "text/html": [
       "<div>\n",
       "<style scoped>\n",
       "    .dataframe tbody tr th:only-of-type {\n",
       "        vertical-align: middle;\n",
       "    }\n",
       "\n",
       "    .dataframe tbody tr th {\n",
       "        vertical-align: top;\n",
       "    }\n",
       "\n",
       "    .dataframe thead th {\n",
       "        text-align: right;\n",
       "    }\n",
       "</style>\n",
       "<table border=\"1\" class=\"dataframe\">\n",
       "  <thead>\n",
       "    <tr style=\"text-align: right;\">\n",
       "      <th></th>\n",
       "      <th>cases</th>\n",
       "      <th>deaths</th>\n",
       "      <th>cases_diff</th>\n",
       "      <th>deaths_diff</th>\n",
       "      <th>pct_change</th>\n",
       "    </tr>\n",
       "    <tr>\n",
       "      <th>date</th>\n",
       "      <th></th>\n",
       "      <th></th>\n",
       "      <th></th>\n",
       "      <th></th>\n",
       "      <th></th>\n",
       "    </tr>\n",
       "  </thead>\n",
       "  <tbody>\n",
       "    <tr>\n",
       "      <th>2020-11-23</th>\n",
       "      <td>32491</td>\n",
       "      <td>2102</td>\n",
       "      <td>394.0</td>\n",
       "      <td>1.0</td>\n",
       "      <td>0.012275</td>\n",
       "    </tr>\n",
       "    <tr>\n",
       "      <th>2020-11-22</th>\n",
       "      <td>32097</td>\n",
       "      <td>2101</td>\n",
       "      <td>404.0</td>\n",
       "      <td>0.0</td>\n",
       "      <td>0.012747</td>\n",
       "    </tr>\n",
       "    <tr>\n",
       "      <th>2020-11-21</th>\n",
       "      <td>31693</td>\n",
       "      <td>2101</td>\n",
       "      <td>441.0</td>\n",
       "      <td>3.0</td>\n",
       "      <td>0.014111</td>\n",
       "    </tr>\n",
       "    <tr>\n",
       "      <th>2020-11-20</th>\n",
       "      <td>31252</td>\n",
       "      <td>2098</td>\n",
       "      <td>340.0</td>\n",
       "      <td>2.0</td>\n",
       "      <td>0.010999</td>\n",
       "    </tr>\n",
       "    <tr>\n",
       "      <th>2020-11-19</th>\n",
       "      <td>30912</td>\n",
       "      <td>2096</td>\n",
       "      <td>442.0</td>\n",
       "      <td>5.0</td>\n",
       "      <td>0.014506</td>\n",
       "    </tr>\n",
       "    <tr>\n",
       "      <th>...</th>\n",
       "      <td>...</td>\n",
       "      <td>...</td>\n",
       "      <td>...</td>\n",
       "      <td>...</td>\n",
       "      <td>...</td>\n",
       "    </tr>\n",
       "    <tr>\n",
       "      <th>2020-03-08</th>\n",
       "      <td>4</td>\n",
       "      <td>0</td>\n",
       "      <td>1.0</td>\n",
       "      <td>0.0</td>\n",
       "      <td>0.333333</td>\n",
       "    </tr>\n",
       "    <tr>\n",
       "      <th>2020-03-07</th>\n",
       "      <td>3</td>\n",
       "      <td>0</td>\n",
       "      <td>0.0</td>\n",
       "      <td>0.0</td>\n",
       "      <td>0.000000</td>\n",
       "    </tr>\n",
       "    <tr>\n",
       "      <th>2020-03-06</th>\n",
       "      <td>3</td>\n",
       "      <td>0</td>\n",
       "      <td>1.0</td>\n",
       "      <td>0.0</td>\n",
       "      <td>0.500000</td>\n",
       "    </tr>\n",
       "    <tr>\n",
       "      <th>2020-03-05</th>\n",
       "      <td>2</td>\n",
       "      <td>0</td>\n",
       "      <td>1.0</td>\n",
       "      <td>0.0</td>\n",
       "      <td>1.000000</td>\n",
       "    </tr>\n",
       "    <tr>\n",
       "      <th>2020-03-04</th>\n",
       "      <td>1</td>\n",
       "      <td>0</td>\n",
       "      <td>NaN</td>\n",
       "      <td>NaN</td>\n",
       "      <td>NaN</td>\n",
       "    </tr>\n",
       "  </tbody>\n",
       "</table>\n",
       "<p>265 rows × 5 columns</p>\n",
       "</div>"
      ],
      "text/plain": [
       "            cases  deaths  cases_diff  deaths_diff  pct_change\n",
       "date                                                          \n",
       "2020-11-23  32491    2102       394.0          1.0    0.012275\n",
       "2020-11-22  32097    2101       404.0          0.0    0.012747\n",
       "2020-11-21  31693    2101       441.0          3.0    0.014111\n",
       "2020-11-20  31252    2098       340.0          2.0    0.010999\n",
       "2020-11-19  30912    2096       442.0          5.0    0.014506\n",
       "...           ...     ...         ...          ...         ...\n",
       "2020-03-08      4       0         1.0          0.0    0.333333\n",
       "2020-03-07      3       0         0.0          0.0    0.000000\n",
       "2020-03-06      3       0         1.0          0.0    0.500000\n",
       "2020-03-05      2       0         1.0          0.0    1.000000\n",
       "2020-03-04      1       0         NaN          NaN         NaN\n",
       "\n",
       "[265 rows x 5 columns]"
      ]
     },
     "execution_count": 23,
     "metadata": {},
     "output_type": "execute_result"
    }
   ],
   "source": [
    "county_df(\"Bergen\")"
   ]
  },
  {
   "cell_type": "code",
   "execution_count": 32,
   "metadata": {},
   "outputs": [
    {
     "data": {
      "text/plain": [
       "Timestamp('2020-11-22 00:00:00')"
      ]
     },
     "execution_count": 32,
     "metadata": {},
     "output_type": "execute_result"
    }
   ],
   "source": [
    "state_df(\"New Jersey\").index[0]"
   ]
  },
  {
   "cell_type": "code",
   "execution_count": 24,
   "metadata": {},
   "outputs": [
    {
     "data": {
      "text/plain": [
       "(datetime.date(2020, 4, 15), 8021.0)"
      ]
     },
     "execution_count": 24,
     "metadata": {},
     "output_type": "execute_result"
    }
   ],
   "source": [
    "county_df(\"New York City\")['cases_diff'].idxmax().date(), county_df(\"New York City\")['cases_diff'].max()"
   ]
  },
  {
   "cell_type": "code",
   "execution_count": 33,
   "metadata": {},
   "outputs": [
    {
     "data": {
      "text/plain": [
       "<AxesSubplot:xlabel='date'>"
      ]
     },
     "execution_count": 33,
     "metadata": {},
     "output_type": "execute_result"
    },
    {
     "data": {
      "image/png": "[encoded data removed]",
      "text/plain": [
       "<Figure size 432x288 with 1 Axes>"
      ]
     },
     "metadata": {
      "needs_background": "light"
     },
     "output_type": "display_data"
    }
   ],
   "source": [
    "county_df(\"Hunterdon\")['cases'].plot()"
   ]
  },
  {
   "cell_type": "code",
   "execution_count": 31,
   "metadata": {},
   "outputs": [
    {
     "data": {
      "text/html": [
       "<div>\n",
       "<style scoped>\n",
       "    .dataframe tbody tr th:only-of-type {\n",
       "        vertical-align: middle;\n",
       "    }\n",
       "\n",
       "    .dataframe tbody tr th {\n",
       "        vertical-align: top;\n",
       "    }\n",
       "\n",
       "    .dataframe thead th {\n",
       "        text-align: right;\n",
       "    }\n",
       "</style>\n",
       "<table border=\"1\" class=\"dataframe\">\n",
       "  <thead>\n",
       "    <tr style=\"text-align: right;\">\n",
       "      <th></th>\n",
       "      <th>cases</th>\n",
       "      <th>deaths</th>\n",
       "      <th>cases_diff</th>\n",
       "      <th>deaths_diff</th>\n",
       "    </tr>\n",
       "    <tr>\n",
       "      <th>date</th>\n",
       "      <th></th>\n",
       "      <th></th>\n",
       "      <th></th>\n",
       "      <th></th>\n",
       "    </tr>\n",
       "  </thead>\n",
       "  <tbody>\n",
       "    <tr>\n",
       "      <th>2020-12-07</th>\n",
       "      <td>2819</td>\n",
       "      <td>132.0</td>\n",
       "      <td>23.0</td>\n",
       "      <td>0.0</td>\n",
       "    </tr>\n",
       "    <tr>\n",
       "      <th>2020-12-06</th>\n",
       "      <td>2796</td>\n",
       "      <td>132.0</td>\n",
       "      <td>55.0</td>\n",
       "      <td>0.0</td>\n",
       "    </tr>\n",
       "    <tr>\n",
       "      <th>2020-12-05</th>\n",
       "      <td>2741</td>\n",
       "      <td>132.0</td>\n",
       "      <td>34.0</td>\n",
       "      <td>0.0</td>\n",
       "    </tr>\n",
       "    <tr>\n",
       "      <th>2020-12-04</th>\n",
       "      <td>2707</td>\n",
       "      <td>132.0</td>\n",
       "      <td>42.0</td>\n",
       "      <td>0.0</td>\n",
       "    </tr>\n",
       "    <tr>\n",
       "      <th>2020-12-03</th>\n",
       "      <td>2665</td>\n",
       "      <td>132.0</td>\n",
       "      <td>34.0</td>\n",
       "      <td>0.0</td>\n",
       "    </tr>\n",
       "    <tr>\n",
       "      <th>...</th>\n",
       "      <td>...</td>\n",
       "      <td>...</td>\n",
       "      <td>...</td>\n",
       "      <td>...</td>\n",
       "    </tr>\n",
       "    <tr>\n",
       "      <th>2020-03-20</th>\n",
       "      <td>11</td>\n",
       "      <td>0.0</td>\n",
       "      <td>3.0</td>\n",
       "      <td>0.0</td>\n",
       "    </tr>\n",
       "    <tr>\n",
       "      <th>2020-03-19</th>\n",
       "      <td>8</td>\n",
       "      <td>0.0</td>\n",
       "      <td>2.0</td>\n",
       "      <td>0.0</td>\n",
       "    </tr>\n",
       "    <tr>\n",
       "      <th>2020-03-18</th>\n",
       "      <td>6</td>\n",
       "      <td>0.0</td>\n",
       "      <td>2.0</td>\n",
       "      <td>0.0</td>\n",
       "    </tr>\n",
       "    <tr>\n",
       "      <th>2020-03-17</th>\n",
       "      <td>4</td>\n",
       "      <td>0.0</td>\n",
       "      <td>3.0</td>\n",
       "      <td>0.0</td>\n",
       "    </tr>\n",
       "    <tr>\n",
       "      <th>2020-03-16</th>\n",
       "      <td>1</td>\n",
       "      <td>0.0</td>\n",
       "      <td>NaN</td>\n",
       "      <td>NaN</td>\n",
       "    </tr>\n",
       "  </tbody>\n",
       "</table>\n",
       "<p>267 rows × 4 columns</p>\n",
       "</div>"
      ],
      "text/plain": [
       "            cases  deaths  cases_diff  deaths_diff\n",
       "date                                              \n",
       "2020-12-07   2819   132.0        23.0          0.0\n",
       "2020-12-06   2796   132.0        55.0          0.0\n",
       "2020-12-05   2741   132.0        34.0          0.0\n",
       "2020-12-04   2707   132.0        42.0          0.0\n",
       "2020-12-03   2665   132.0        34.0          0.0\n",
       "...           ...     ...         ...          ...\n",
       "2020-03-20     11     0.0         3.0          0.0\n",
       "2020-03-19      8     0.0         2.0          0.0\n",
       "2020-03-18      6     0.0         2.0          0.0\n",
       "2020-03-17      4     0.0         3.0          0.0\n",
       "2020-03-16      1     0.0         NaN          NaN\n",
       "\n",
       "[267 rows x 4 columns]"
      ]
     },
     "execution_count": 31,
     "metadata": {},
     "output_type": "execute_result"
    }
   ],
   "source": [
    "county_df(\"Hunterdon\")"
   ]
  }
 ],
 "metadata": {
  "kernelspec": {
   "display_name": "Python 3",
   "language": "python",
   "name": "python3"
  },
  "language_info": {
   "codemirror_mode": {
    "name": "ipython",
    "version": 3
   },
   "file_extension": ".py",
   "mimetype": "text/x-python",
   "name": "python",
   "nbconvert_exporter": "python",
   "pygments_lexer": "ipython3",
   "version": "3.9.0"
  }
 },
 "nbformat": 4,
 "nbformat_minor": 4
}
