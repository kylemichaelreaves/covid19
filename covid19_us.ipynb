{
 "cells": [
  {
   "cell_type": "markdown",
   "metadata": {},
   "source": [
    "# COVID19 Project"
   ]
  },
  {
   "cell_type": "code",
   "execution_count": 1,
   "metadata": {},
   "outputs": [],
   "source": [
    "__author__ = \"Kyle M Reaves\"\n",
    "__github__ = \"https://www.github.com/kylemichaelreaves\"\n",
    "\n",
    "import pandas as pd, matplotlib.pyplot as plt\n",
    "from datetime import datetime as dt, timedelta\n",
    "\n",
    "#dtype changed to category from object to optimize runtime\n",
    "df =  pd.read_csv(\"https://raw.githubusercontent.com/nytimes/covid-19-data/master/us-counties.csv\", \n",
    "dtype={'county': 'category','state': 'category'})\n",
    "\n",
    "df.date = pd.to_datetime(df.date)\n",
    "\n",
    "df['cases_diff'] = df.groupby(['county', 'state'])['cases'].diff()\n",
    "df['deaths_diff'] = df.groupby(['county', 'state'])['deaths'].diff()\n",
    "\n",
    "df.set_index(df.date, inplace=True, drop=True)\n",
    "df.drop(columns=['date'], inplace=True)\n",
    "df.index = df.index.astype('datetime64[ns]')\n",
    "df.sort_index(ascending=False, inplace=True)\n",
    "\n",
    "states = df.state.unique().tolist()\n",
    "counties = df.county.unique().tolist()\n",
    "fips = df.fips.unique().tolist()\n",
    "total_cases = df.xs(df.index[0])['cases'].sum()\n",
    "total_deaths = df.xs(df.index[0])['deaths'].sum()"
   ]
  },
  {
   "cell_type": "code",
   "execution_count": 160,
   "metadata": {},
   "outputs": [],
   "source": [
    "def greatest_cases_yesterday():\n",
    "    gcy = df.sort_values(by=['date', 'cases_diff'], ascending=False)\n",
    "    return gcy.xs(df.index[0])\n",
    "\n",
    "def greatest_deaths_yesterday():\n",
    "    gdy = df.sort_values(by=['date', 'deaths_diff'], ascending=False)\n",
    "    return gdy.xs(df.index[0])\n",
    "\n",
    "def county_df(county, state=None):\n",
    "    county_df = df[df['county'] == county].drop(columns=['county'])\n",
    "    \n",
    "    if state is not None and state not in states:\n",
    "        return \"{0} is not a state in the dataframe.\".format(state)\n",
    "    \n",
    "    if state is not None:\n",
    "        county_df = df[(df.county == county) & (df.state == state)]\n",
    "        return county_df\n",
    "    \n",
    "    if county in states:\n",
    "        return \"{0} is not a county but a state.\".format(county)\n",
    "    \n",
    "    if county not in counties:\n",
    "        return \"{0} is not a county in the dataframe.\".format(county)\n",
    "    \n",
    "    also_in = county_df.state.unique()\n",
    "    num_counties = len(also_in)\n",
    "    \n",
    "    if num_counties == 1:\n",
    "        county_df.drop(columns=['state', 'fips'], axis=1, inplace=True)\n",
    "        \n",
    "    if num_counties > 1:\n",
    "        return \"{0} appears in {1}; please specify.\".format(county, also_in)\n",
    "    \n",
    "    return county_df\n",
    "\n",
    "\n",
    "def state_df(state):\n",
    "    if state not in states:\n",
    "        return \"{0} is not in database.\".format(state)\n",
    "    \n",
    "    sdf = df[df.state == state].copy()\n",
    "    \n",
    "    counties = sdf.county.unique()\n",
    "    \n",
    "    sdf.sort_index(ascending=False, inplace=True)\n",
    "    sdf.drop(columns=['fips'], inplace=True)\n",
    "    return sdf\n",
    "\n",
    "\n",
    "def daily_totals_df(state=None):\n",
    "    if state is None:\n",
    "        index = df.index.unique()\n",
    "        data = {'cases': [df.xs(i)['cases_diff'].sum() for i in index],\n",
    "               'deaths': [df.xs(i)['deaths_diff'].sum() for i in index]}\n",
    "        df2 = pd.DataFrame(data, index)\n",
    "\n",
    "    if state:\n",
    "        index = state_df(state).index.unique()\n",
    "        data = {'cases': [state_df(state).xs(i)['cases_diff'].sum() for i in index],\n",
    "               'deaths': [state_df(state).xs(i)['deaths_diff'].sum() for i in index]}\n",
    "        df2 = pd.DataFrame(data, index)\n",
    "        return df2\n",
    "    else:\n",
    "        return df2\n",
    "    \n",
    "\n",
    "def yesterday():\n",
    "    #yest = (dt.now() - timedelta(days=1)).strftime('%D')\n",
    "    cases_max = daily_totals()['cases'].idxmax().strftime(\"%D\")\n",
    "    deaths_max = daily_totals()['deaths'].idxmax().strftime(\"%D\")\n",
    "    cases = df.xs(df.index[0])['cases_diff'].sum()\n",
    "    deaths = df.xs(df.index[0])['deaths_diff'].sum()\n",
    "    date =  df.index[0].strftime('%D')\n",
    "    \n",
    "    if date == cases_max:\n",
    "        return \"{0} cases and {1} deaths on {2}, the US's record for daily cases.\".format(cases, deaths, date)\n",
    "    \n",
    "    if date == deaths_max:\n",
    "        return \"{0} cases and {1} deaths on {2}, the US's record for daily deaths.\".format(cases, deaths, date)\n",
    "    \n",
    "    if date == cases_max and date == deaths_max:\n",
    "        return \"{0} cases and {1} deaths on {2}, the US's record for daily cases and deaths.\".format(cases, deaths, date)\n",
    "    \n",
    "    else:\n",
    "        return \"{0} cases and {1} deaths on {2}\".format(cases, deaths, date)\n",
    "\n",
    "def state_yest_df():\n",
    "    index = states\n",
    "    data = {'cases': [state_df(state).xs(df.index[0])['cases_diff'].sum() for state in states],\n",
    "            'deaths': [state_df(state).xs(df.index[0])['deaths_diff'].sum() for state in states]}\n",
    "    df3 = pd.DataFrame(data, index)\n",
    "    return df3\n",
    "\n",
    "def monthly_df():\n",
    "    index = pd.MultiIndex.from_arrays([df.index.year, df.index.month], names=['Year', 'Month']).unique()\n",
    "    data = {'cases': [df[(df.index.year == year) & (df.index.month == month)]['cases_diff'].sum() for year, month in multi_index],\n",
    "            'deaths': [df[(df.index.year == year) & (df.index.month == month)]['deaths_diff'].sum() for year, month in multi_index]}\n",
    "    monthly_df = pd.DataFrame(data, index)\n",
    "    return monthly_df\n",
    "\n",
    "def weekly_df():\n",
    "    w_index = df.index.isocalendar().week.unique()\n",
    "    w_data = {'weekly cases': [df[df.index.isocalendar().week == i]['cases_diff'].sum() for i in w_index],\n",
    "              'weekly deaths': [df[df.index.isocalendar().week == i]['deaths_diff'].sum() for i in w_index]}\n",
    "    weekly_df = pd.DataFrame(w_data, w_index)\n",
    "    return weekly_df"
   ]
  },
  {
   "cell_type": "code",
   "execution_count": 163,
   "metadata": {},
   "outputs": [
    {
     "data": {
      "text/plain": [
       "'Viriginia is not a state in the dataframe.'"
      ]
     },
     "execution_count": 163,
     "metadata": {},
     "output_type": "execute_result"
    }
   ],
   "source": [
    "county_df(\"York\", \"Viriginia\")"
   ]
  },
  {
   "cell_type": "code",
   "execution_count": 154,
   "metadata": {},
   "outputs": [
    {
     "data": {
      "text/html": [
       "<div>\n",
       "<style scoped>\n",
       "    .dataframe tbody tr th:only-of-type {\n",
       "        vertical-align: middle;\n",
       "    }\n",
       "\n",
       "    .dataframe tbody tr th {\n",
       "        vertical-align: top;\n",
       "    }\n",
       "\n",
       "    .dataframe thead th {\n",
       "        text-align: right;\n",
       "    }\n",
       "</style>\n",
       "<table border=\"1\" class=\"dataframe\">\n",
       "  <thead>\n",
       "    <tr style=\"text-align: right;\">\n",
       "      <th></th>\n",
       "      <th></th>\n",
       "      <th>cases</th>\n",
       "      <th>deaths</th>\n",
       "    </tr>\n",
       "    <tr>\n",
       "      <th>Year</th>\n",
       "      <th>Month</th>\n",
       "      <th></th>\n",
       "      <th></th>\n",
       "    </tr>\n",
       "  </thead>\n",
       "  <tbody>\n",
       "    <tr>\n",
       "      <th>2021</th>\n",
       "      <th>1</th>\n",
       "      <td>432599.0</td>\n",
       "      <td>4012.0</td>\n",
       "    </tr>\n",
       "    <tr>\n",
       "      <th rowspan=\"12\" valign=\"top\">2020</th>\n",
       "      <th>12</th>\n",
       "      <td>6411034.0</td>\n",
       "      <td>78018.0</td>\n",
       "    </tr>\n",
       "    <tr>\n",
       "      <th>11</th>\n",
       "      <td>4412061.0</td>\n",
       "      <td>37791.0</td>\n",
       "    </tr>\n",
       "    <tr>\n",
       "      <th>10</th>\n",
       "      <td>1946627.0</td>\n",
       "      <td>23653.0</td>\n",
       "    </tr>\n",
       "    <tr>\n",
       "      <th>9</th>\n",
       "      <td>1217119.0</td>\n",
       "      <td>23376.0</td>\n",
       "    </tr>\n",
       "    <tr>\n",
       "      <th>8</th>\n",
       "      <td>1473763.0</td>\n",
       "      <td>29612.0</td>\n",
       "    </tr>\n",
       "    <tr>\n",
       "      <th>7</th>\n",
       "      <td>1917749.0</td>\n",
       "      <td>26404.0</td>\n",
       "    </tr>\n",
       "    <tr>\n",
       "      <th>6</th>\n",
       "      <td>852437.0</td>\n",
       "      <td>23081.0</td>\n",
       "    </tr>\n",
       "    <tr>\n",
       "      <th>5</th>\n",
       "      <td>721813.0</td>\n",
       "      <td>41229.0</td>\n",
       "    </tr>\n",
       "    <tr>\n",
       "      <th>4</th>\n",
       "      <td>886531.0</td>\n",
       "      <td>60017.0</td>\n",
       "    </tr>\n",
       "    <tr>\n",
       "      <th>3</th>\n",
       "      <td>185327.0</td>\n",
       "      <td>4197.0</td>\n",
       "    </tr>\n",
       "    <tr>\n",
       "      <th>2</th>\n",
       "      <td>34.0</td>\n",
       "      <td>1.0</td>\n",
       "    </tr>\n",
       "    <tr>\n",
       "      <th>1</th>\n",
       "      <td>1.0</td>\n",
       "      <td>0.0</td>\n",
       "    </tr>\n",
       "  </tbody>\n",
       "</table>\n",
       "</div>"
      ],
      "text/plain": [
       "                cases   deaths\n",
       "Year Month                    \n",
       "2021 1       432599.0   4012.0\n",
       "2020 12     6411034.0  78018.0\n",
       "     11     4412061.0  37791.0\n",
       "     10     1946627.0  23653.0\n",
       "     9      1217119.0  23376.0\n",
       "     8      1473763.0  29612.0\n",
       "     7      1917749.0  26404.0\n",
       "     6       852437.0  23081.0\n",
       "     5       721813.0  41229.0\n",
       "     4       886531.0  60017.0\n",
       "     3       185327.0   4197.0\n",
       "     2           34.0      1.0\n",
       "     1            1.0      0.0"
      ]
     },
     "execution_count": 154,
     "metadata": {},
     "output_type": "execute_result"
    }
   ],
   "source": [
    "monthly_df()"
   ]
  },
  {
   "cell_type": "code",
   "execution_count": 128,
   "metadata": {},
   "outputs": [
    {
     "name": "stdout",
     "output_type": "stream",
     "text": [
      "(2021, 1) 432599.0\n",
      "(2020, 12) 6411034.0\n",
      "(2020, 11) 4412061.0\n",
      "(2020, 10) 1946627.0\n",
      "(2020, 9) 1217119.0\n",
      "(2020, 8) 1473763.0\n",
      "(2020, 7) 1917749.0\n",
      "(2020, 6) 852437.0\n",
      "(2020, 5) 721813.0\n",
      "(2020, 4) 886531.0\n",
      "(2020, 3) 185327.0\n",
      "(2020, 2) 34.0\n",
      "(2020, 1) 1.0\n"
     ]
    }
   ],
   "source": [
    "for (year, month) in multi_index:\n",
    "    print((year, month), df[(df.index.year == year) & (df.index.month == month)]['cases_diff'].sum())"
   ]
  },
  {
   "cell_type": "code",
   "execution_count": 137,
   "metadata": {},
   "outputs": [
    {
     "data": {
      "text/plain": [
       "Index(['Jan-2021', 'Dec-2020', 'Nov-2020', 'Oct-2020', 'Sep-2020', 'Aug-2020',\n",
       "       'Jul-2020', 'Jun-2020', 'May-2020', 'Apr-2020', 'Mar-2020', 'Feb-2020',\n",
       "       'Jan-2020'],\n",
       "      dtype='object')"
      ]
     },
     "execution_count": 137,
     "metadata": {},
     "output_type": "execute_result"
    }
   ],
   "source": [
    "pd.to_datetime(month_list).strftime('%b-%Y').unique()"
   ]
  },
  {
   "cell_type": "code",
   "execution_count": 7,
   "metadata": {},
   "outputs": [
    {
     "data": {
      "text/plain": [
       "347"
      ]
     },
     "execution_count": 7,
     "metadata": {},
     "output_type": "execute_result"
    }
   ],
   "source": [
    "(df.index[0].date() - df.index[-1].date()).days"
   ]
  },
  {
   "cell_type": "code",
   "execution_count": 8,
   "metadata": {},
   "outputs": [
    {
     "data": {
      "text/plain": [
       "348"
      ]
     },
     "execution_count": 8,
     "metadata": {},
     "output_type": "execute_result"
    }
   ],
   "source": [
    "len([i.month for i in df.index.unique()])"
   ]
  },
  {
   "cell_type": "code",
   "execution_count": 10,
   "metadata": {},
   "outputs": [
    {
     "data": {
      "text/plain": [
       "\"285440.0 cases and 2095.0 deaths on 01/02/21, the US's record for daily cases.\""
      ]
     },
     "execution_count": 10,
     "metadata": {},
     "output_type": "execute_result"
    }
   ],
   "source": [
    "yesterday()"
   ]
  },
  {
   "cell_type": "code",
   "execution_count": 11,
   "metadata": {},
   "outputs": [
    {
     "data": {
      "text/plain": [
       "(Timestamp('2020-12-30 00:00:00'), 3808.0)"
      ]
     },
     "execution_count": 11,
     "metadata": {},
     "output_type": "execute_result"
    }
   ],
   "source": [
    "daily_totals()['deaths'].idxmax(), daily_totals()['deaths'].max()"
   ]
  },
  {
   "cell_type": "code",
   "execution_count": 12,
   "metadata": {},
   "outputs": [
    {
     "data": {
      "text/html": [
       "<div>\n",
       "<style scoped>\n",
       "    .dataframe tbody tr th:only-of-type {\n",
       "        vertical-align: middle;\n",
       "    }\n",
       "\n",
       "    .dataframe tbody tr th {\n",
       "        vertical-align: top;\n",
       "    }\n",
       "\n",
       "    .dataframe thead th {\n",
       "        text-align: right;\n",
       "    }\n",
       "</style>\n",
       "<table border=\"1\" class=\"dataframe\">\n",
       "  <thead>\n",
       "    <tr style=\"text-align: right;\">\n",
       "      <th></th>\n",
       "      <th>cases</th>\n",
       "      <th>deaths</th>\n",
       "    </tr>\n",
       "    <tr>\n",
       "      <th>date</th>\n",
       "      <th></th>\n",
       "      <th></th>\n",
       "    </tr>\n",
       "  </thead>\n",
       "  <tbody>\n",
       "    <tr>\n",
       "      <th>2021-01-02</th>\n",
       "      <td>285440.0</td>\n",
       "      <td>2095.0</td>\n",
       "    </tr>\n",
       "    <tr>\n",
       "      <th>2021-01-01</th>\n",
       "      <td>147159.0</td>\n",
       "      <td>1917.0</td>\n",
       "    </tr>\n",
       "    <tr>\n",
       "      <th>2020-12-31</th>\n",
       "      <td>231045.0</td>\n",
       "      <td>3462.0</td>\n",
       "    </tr>\n",
       "    <tr>\n",
       "      <th>2020-12-30</th>\n",
       "      <td>229038.0</td>\n",
       "      <td>3808.0</td>\n",
       "    </tr>\n",
       "    <tr>\n",
       "      <th>2020-12-29</th>\n",
       "      <td>201106.0</td>\n",
       "      <td>3628.0</td>\n",
       "    </tr>\n",
       "    <tr>\n",
       "      <th>...</th>\n",
       "      <td>...</td>\n",
       "      <td>...</td>\n",
       "    </tr>\n",
       "    <tr>\n",
       "      <th>2020-01-25</th>\n",
       "      <td>0.0</td>\n",
       "      <td>0.0</td>\n",
       "    </tr>\n",
       "    <tr>\n",
       "      <th>2020-01-24</th>\n",
       "      <td>0.0</td>\n",
       "      <td>0.0</td>\n",
       "    </tr>\n",
       "    <tr>\n",
       "      <th>2020-01-23</th>\n",
       "      <td>0.0</td>\n",
       "      <td>0.0</td>\n",
       "    </tr>\n",
       "    <tr>\n",
       "      <th>2020-01-22</th>\n",
       "      <td>0.0</td>\n",
       "      <td>0.0</td>\n",
       "    </tr>\n",
       "    <tr>\n",
       "      <th>2020-01-21</th>\n",
       "      <td>NaN</td>\n",
       "      <td>NaN</td>\n",
       "    </tr>\n",
       "  </tbody>\n",
       "</table>\n",
       "<p>348 rows × 2 columns</p>\n",
       "</div>"
      ],
      "text/plain": [
       "               cases  deaths\n",
       "date                        \n",
       "2021-01-02  285440.0  2095.0\n",
       "2021-01-01  147159.0  1917.0\n",
       "2020-12-31  231045.0  3462.0\n",
       "2020-12-30  229038.0  3808.0\n",
       "2020-12-29  201106.0  3628.0\n",
       "...              ...     ...\n",
       "2020-01-25       0.0     0.0\n",
       "2020-01-24       0.0     0.0\n",
       "2020-01-23       0.0     0.0\n",
       "2020-01-22       0.0     0.0\n",
       "2020-01-21       NaN     NaN\n",
       "\n",
       "[348 rows x 2 columns]"
      ]
     },
     "execution_count": 12,
     "metadata": {},
     "output_type": "execute_result"
    }
   ],
   "source": [
    "daily_totals()"
   ]
  },
  {
   "cell_type": "code",
   "execution_count": 15,
   "metadata": {},
   "outputs": [
    {
     "data": {
      "text/plain": [
       "('01/02/21', '12/30/20')"
      ]
     },
     "execution_count": 15,
     "metadata": {},
     "output_type": "execute_result"
    }
   ],
   "source": [
    "daily_totals()['cases'].idxmax().strftime(\"%D\"), daily_totals()['deaths'].idxmax().strftime(\"%D\")"
   ]
  },
  {
   "cell_type": "code",
   "execution_count": 13,
   "metadata": {},
   "outputs": [],
   "source": [
    "today = dt.now()\n",
    "deaths_max = daily_totals()['deaths'].idxmax()\n",
    "cases_max = daily_totals()['cases'].idxmax()\n",
    "cases_delta = today - cases_max\n",
    "deaths_delta = today - deaths_max"
   ]
  },
  {
   "cell_type": "code",
   "execution_count": 14,
   "metadata": {},
   "outputs": [
    {
     "data": {
      "text/plain": [
       "(1, 4)"
      ]
     },
     "execution_count": 14,
     "metadata": {},
     "output_type": "execute_result"
    }
   ],
   "source": [
    "cases_delta.days, deaths_delta.days"
   ]
  },
  {
   "cell_type": "code",
   "execution_count": 16,
   "metadata": {},
   "outputs": [],
   "source": [
    "index = states\n",
    "data = {'cases': [state_df(state).xs(df.index[0])['cases_diff'].sum() for state in states],\n",
    "        'deaths': [state_df(state).xs(df.index[0])['deaths_diff'].sum() for state in states]}\n",
    "df3 = pd.DataFrame(data, index)"
   ]
  },
  {
   "cell_type": "code",
   "execution_count": 146,
   "metadata": {},
   "outputs": [
    {
     "name": "stdout",
     "output_type": "stream",
     "text": [
      "January\n",
      "December\n",
      "November\n",
      "October\n",
      "September\n",
      "August\n",
      "July\n",
      "June\n",
      "May\n",
      "April\n",
      "March\n",
      "February\n"
     ]
    }
   ],
   "source": [
    "for month in df.index.strftime(\"%B\").unique():\n",
    "    print(month)"
   ]
  },
  {
   "cell_type": "code",
   "execution_count": 19,
   "metadata": {},
   "outputs": [
    {
     "name": "stdout",
     "output_type": "stream",
     "text": [
      "1 147160.0\n",
      "12 6411034.0\n",
      "11 4412061.0\n",
      "10 1946627.0\n",
      "9 1217119.0\n",
      "8 1473763.0\n",
      "7 1917749.0\n",
      "6 852437.0\n",
      "5 721813.0\n",
      "4 886531.0\n",
      "3 185327.0\n",
      "2 34.0\n"
     ]
    }
   ],
   "source": [
    "for month in df.index.month.unique():\n",
    "    print(month, df[df.index.month == month]['cases_diff'].sum())"
   ]
  },
  {
   "cell_type": "markdown",
   "metadata": {},
   "source": [
    "#### first iteration of monthly dataframe"
   ]
  },
  {
   "cell_type": "code",
   "execution_count": 147,
   "metadata": {},
   "outputs": [],
   "source": [
    "# m_index = df.index.month.unique()\n",
    "# m_data = {'monthly cases': [df[df.index.month == month]['cases_diff'].sum() for month in m_index],\n",
    "#         'monthly deaths': [df[df.index.month == month]['deaths_diff'].sum() for month in m_index]}\n",
    "# m_df = pd.DataFrame(m_data, m_index)\n",
    "# m_df.index.rename('month', inplace=True)"
   ]
  },
  {
   "cell_type": "code",
   "execution_count": 145,
   "metadata": {},
   "outputs": [
    {
     "data": {
      "text/plain": [
       "(2020, 12)"
      ]
     },
     "execution_count": 145,
     "metadata": {},
     "output_type": "execute_result"
    }
   ],
   "source": [
    "monthly_df()['deaths'].idxmax()"
   ]
  },
  {
   "cell_type": "code",
   "execution_count": 16,
   "metadata": {},
   "outputs": [],
   "source": [
    "w_index = df.index.isocalendar().week.unique()\n",
    "w_data = {'weekly cases': [df[df.index.isocalendar().week == i]['cases_diff'].sum() for i in w_index],\n",
    "         'weekly deaths': [df[df.index.isocalendar().week == i]['deaths_diff'].sum() for i in w_index]}\n",
    "week_df = pd.DataFrame(w_data, w_index)"
   ]
  },
  {
   "cell_type": "code",
   "execution_count": 16,
   "metadata": {},
   "outputs": [
    {
     "data": {
      "text/html": [
       "<div>\n",
       "<style scoped>\n",
       "    .dataframe tbody tr th:only-of-type {\n",
       "        vertical-align: middle;\n",
       "    }\n",
       "\n",
       "    .dataframe tbody tr th {\n",
       "        vertical-align: top;\n",
       "    }\n",
       "\n",
       "    .dataframe thead th {\n",
       "        text-align: right;\n",
       "    }\n",
       "</style>\n",
       "<table border=\"1\" class=\"dataframe\">\n",
       "  <thead>\n",
       "    <tr style=\"text-align: right;\">\n",
       "      <th></th>\n",
       "      <th>weekly cases</th>\n",
       "      <th>weekly deaths</th>\n",
       "    </tr>\n",
       "  </thead>\n",
       "  <tbody>\n",
       "    <tr>\n",
       "      <th>53</th>\n",
       "      <td>1282832.0</td>\n",
       "      <td>16809.0</td>\n",
       "    </tr>\n",
       "    <tr>\n",
       "      <th>52</th>\n",
       "      <td>1294505.0</td>\n",
       "      <td>15442.0</td>\n",
       "    </tr>\n",
       "    <tr>\n",
       "      <th>51</th>\n",
       "      <td>1512659.0</td>\n",
       "      <td>18474.0</td>\n",
       "    </tr>\n",
       "    <tr>\n",
       "      <th>50</th>\n",
       "      <td>1541160.0</td>\n",
       "      <td>17015.0</td>\n",
       "    </tr>\n",
       "    <tr>\n",
       "      <th>49</th>\n",
       "      <td>1380238.0</td>\n",
       "      <td>15555.0</td>\n",
       "    </tr>\n",
       "    <tr>\n",
       "      <th>48</th>\n",
       "      <td>1134127.0</td>\n",
       "      <td>10161.0</td>\n",
       "    </tr>\n",
       "    <tr>\n",
       "      <th>47</th>\n",
       "      <td>1199731.0</td>\n",
       "      <td>10514.0</td>\n",
       "    </tr>\n",
       "    <tr>\n",
       "      <th>46</th>\n",
       "      <td>1052521.0</td>\n",
       "      <td>8035.0</td>\n",
       "    </tr>\n",
       "    <tr>\n",
       "      <th>45</th>\n",
       "      <td>783697.0</td>\n",
       "      <td>7389.0</td>\n",
       "    </tr>\n",
       "    <tr>\n",
       "      <th>44</th>\n",
       "      <td>580267.0</td>\n",
       "      <td>5763.0</td>\n",
       "    </tr>\n",
       "    <tr>\n",
       "      <th>43</th>\n",
       "      <td>489173.0</td>\n",
       "      <td>5633.0</td>\n",
       "    </tr>\n",
       "    <tr>\n",
       "      <th>42</th>\n",
       "      <td>398390.0</td>\n",
       "      <td>4920.0</td>\n",
       "    </tr>\n",
       "    <tr>\n",
       "      <th>41</th>\n",
       "      <td>370208.0</td>\n",
       "      <td>5013.0</td>\n",
       "    </tr>\n",
       "    <tr>\n",
       "      <th>40</th>\n",
       "      <td>305972.0</td>\n",
       "      <td>5000.0</td>\n",
       "    </tr>\n",
       "    <tr>\n",
       "      <th>39</th>\n",
       "      <td>313471.0</td>\n",
       "      <td>5235.0</td>\n",
       "    </tr>\n",
       "    <tr>\n",
       "      <th>38</th>\n",
       "      <td>287735.0</td>\n",
       "      <td>5411.0</td>\n",
       "    </tr>\n",
       "    <tr>\n",
       "      <th>37</th>\n",
       "      <td>245475.0</td>\n",
       "      <td>5136.0</td>\n",
       "    </tr>\n",
       "    <tr>\n",
       "      <th>36</th>\n",
       "      <td>283766.0</td>\n",
       "      <td>5833.0</td>\n",
       "    </tr>\n",
       "    <tr>\n",
       "      <th>35</th>\n",
       "      <td>295135.0</td>\n",
       "      <td>6285.0</td>\n",
       "    </tr>\n",
       "    <tr>\n",
       "      <th>34</th>\n",
       "      <td>296183.0</td>\n",
       "      <td>6778.0</td>\n",
       "    </tr>\n",
       "    <tr>\n",
       "      <th>33</th>\n",
       "      <td>361201.0</td>\n",
       "      <td>7438.0</td>\n",
       "    </tr>\n",
       "    <tr>\n",
       "      <th>32</th>\n",
       "      <td>377139.0</td>\n",
       "      <td>7148.0</td>\n",
       "    </tr>\n",
       "    <tr>\n",
       "      <th>31</th>\n",
       "      <td>434918.0</td>\n",
       "      <td>8586.0</td>\n",
       "    </tr>\n",
       "    <tr>\n",
       "      <th>30</th>\n",
       "      <td>458787.0</td>\n",
       "      <td>6382.0</td>\n",
       "    </tr>\n",
       "    <tr>\n",
       "      <th>29</th>\n",
       "      <td>465424.0</td>\n",
       "      <td>5369.0</td>\n",
       "    </tr>\n",
       "    <tr>\n",
       "      <th>28</th>\n",
       "      <td>407471.0</td>\n",
       "      <td>5036.0</td>\n",
       "    </tr>\n",
       "    <tr>\n",
       "      <th>27</th>\n",
       "      <td>346667.0</td>\n",
       "      <td>4148.0</td>\n",
       "    </tr>\n",
       "    <tr>\n",
       "      <th>26</th>\n",
       "      <td>271399.0</td>\n",
       "      <td>5846.0</td>\n",
       "    </tr>\n",
       "    <tr>\n",
       "      <th>25</th>\n",
       "      <td>187867.0</td>\n",
       "      <td>4206.0</td>\n",
       "    </tr>\n",
       "    <tr>\n",
       "      <th>24</th>\n",
       "      <td>151167.0</td>\n",
       "      <td>5340.0</td>\n",
       "    </tr>\n",
       "    <tr>\n",
       "      <th>23</th>\n",
       "      <td>154104.0</td>\n",
       "      <td>6047.0</td>\n",
       "    </tr>\n",
       "    <tr>\n",
       "      <th>22</th>\n",
       "      <td>147870.0</td>\n",
       "      <td>6694.0</td>\n",
       "    </tr>\n",
       "    <tr>\n",
       "      <th>21</th>\n",
       "      <td>157697.0</td>\n",
       "      <td>8105.0</td>\n",
       "    </tr>\n",
       "    <tr>\n",
       "      <th>20</th>\n",
       "      <td>157061.0</td>\n",
       "      <td>9799.0</td>\n",
       "    </tr>\n",
       "    <tr>\n",
       "      <th>19</th>\n",
       "      <td>169385.0</td>\n",
       "      <td>11960.0</td>\n",
       "    </tr>\n",
       "    <tr>\n",
       "      <th>18</th>\n",
       "      <td>194502.0</td>\n",
       "      <td>13145.0</td>\n",
       "    </tr>\n",
       "    <tr>\n",
       "      <th>17</th>\n",
       "      <td>213367.0</td>\n",
       "      <td>14494.0</td>\n",
       "    </tr>\n",
       "    <tr>\n",
       "      <th>16</th>\n",
       "      <td>199454.0</td>\n",
       "      <td>15817.0</td>\n",
       "    </tr>\n",
       "    <tr>\n",
       "      <th>15</th>\n",
       "      <td>219768.0</td>\n",
       "      <td>14673.0</td>\n",
       "    </tr>\n",
       "    <tr>\n",
       "      <th>14</th>\n",
       "      <td>194865.0</td>\n",
       "      <td>8138.0</td>\n",
       "    </tr>\n",
       "    <tr>\n",
       "      <th>13</th>\n",
       "      <td>108172.0</td>\n",
       "      <td>2177.0</td>\n",
       "    </tr>\n",
       "    <tr>\n",
       "      <th>12</th>\n",
       "      <td>28537.0</td>\n",
       "      <td>377.0</td>\n",
       "    </tr>\n",
       "    <tr>\n",
       "      <th>11</th>\n",
       "      <td>2630.0</td>\n",
       "      <td>44.0</td>\n",
       "    </tr>\n",
       "    <tr>\n",
       "      <th>10</th>\n",
       "      <td>351.0</td>\n",
       "      <td>18.0</td>\n",
       "    </tr>\n",
       "    <tr>\n",
       "      <th>9</th>\n",
       "      <td>41.0</td>\n",
       "      <td>3.0</td>\n",
       "    </tr>\n",
       "    <tr>\n",
       "      <th>8</th>\n",
       "      <td>3.0</td>\n",
       "      <td>0.0</td>\n",
       "    </tr>\n",
       "    <tr>\n",
       "      <th>7</th>\n",
       "      <td>1.0</td>\n",
       "      <td>0.0</td>\n",
       "    </tr>\n",
       "    <tr>\n",
       "      <th>6</th>\n",
       "      <td>0.0</td>\n",
       "      <td>0.0</td>\n",
       "    </tr>\n",
       "    <tr>\n",
       "      <th>5</th>\n",
       "      <td>2.0</td>\n",
       "      <td>0.0</td>\n",
       "    </tr>\n",
       "    <tr>\n",
       "      <th>4</th>\n",
       "      <td>0.0</td>\n",
       "      <td>0.0</td>\n",
       "    </tr>\n",
       "  </tbody>\n",
       "</table>\n",
       "</div>"
      ],
      "text/plain": [
       "    weekly cases  weekly deaths\n",
       "53     1282832.0        16809.0\n",
       "52     1294505.0        15442.0\n",
       "51     1512659.0        18474.0\n",
       "50     1541160.0        17015.0\n",
       "49     1380238.0        15555.0\n",
       "48     1134127.0        10161.0\n",
       "47     1199731.0        10514.0\n",
       "46     1052521.0         8035.0\n",
       "45      783697.0         7389.0\n",
       "44      580267.0         5763.0\n",
       "43      489173.0         5633.0\n",
       "42      398390.0         4920.0\n",
       "41      370208.0         5013.0\n",
       "40      305972.0         5000.0\n",
       "39      313471.0         5235.0\n",
       "38      287735.0         5411.0\n",
       "37      245475.0         5136.0\n",
       "36      283766.0         5833.0\n",
       "35      295135.0         6285.0\n",
       "34      296183.0         6778.0\n",
       "33      361201.0         7438.0\n",
       "32      377139.0         7148.0\n",
       "31      434918.0         8586.0\n",
       "30      458787.0         6382.0\n",
       "29      465424.0         5369.0\n",
       "28      407471.0         5036.0\n",
       "27      346667.0         4148.0\n",
       "26      271399.0         5846.0\n",
       "25      187867.0         4206.0\n",
       "24      151167.0         5340.0\n",
       "23      154104.0         6047.0\n",
       "22      147870.0         6694.0\n",
       "21      157697.0         8105.0\n",
       "20      157061.0         9799.0\n",
       "19      169385.0        11960.0\n",
       "18      194502.0        13145.0\n",
       "17      213367.0        14494.0\n",
       "16      199454.0        15817.0\n",
       "15      219768.0        14673.0\n",
       "14      194865.0         8138.0\n",
       "13      108172.0         2177.0\n",
       "12       28537.0          377.0\n",
       "11        2630.0           44.0\n",
       "10         351.0           18.0\n",
       "9           41.0            3.0\n",
       "8            3.0            0.0\n",
       "7            1.0            0.0\n",
       "6            0.0            0.0\n",
       "5            2.0            0.0\n",
       "4            0.0            0.0"
      ]
     },
     "execution_count": 16,
     "metadata": {},
     "output_type": "execute_result"
    }
   ],
   "source": [
    "weekly_df()"
   ]
  },
  {
   "cell_type": "code",
   "execution_count": 18,
   "metadata": {},
   "outputs": [
    {
     "name": "stdout",
     "output_type": "stream",
     "text": [
      "52 824551.0\n",
      "51 1512659.0\n",
      "50 1541160.0\n",
      "49 1380238.0\n",
      "48 1134127.0\n",
      "47 1199731.0\n",
      "46 1052521.0\n",
      "45 783697.0\n",
      "44 580267.0\n",
      "43 489173.0\n",
      "42 398390.0\n",
      "41 370208.0\n",
      "40 305972.0\n",
      "39 313471.0\n",
      "38 287735.0\n",
      "37 245475.0\n",
      "36 283766.0\n",
      "35 295135.0\n",
      "34 296183.0\n",
      "33 361201.0\n",
      "32 377139.0\n",
      "31 434918.0\n",
      "30 458787.0\n",
      "29 465424.0\n",
      "28 407471.0\n",
      "27 346667.0\n",
      "26 271399.0\n",
      "25 187867.0\n",
      "24 151167.0\n",
      "23 154104.0\n",
      "22 147870.0\n",
      "21 157697.0\n",
      "20 157061.0\n",
      "19 169385.0\n",
      "18 194502.0\n",
      "17 213367.0\n",
      "16 199454.0\n",
      "15 219768.0\n",
      "14 194865.0\n",
      "13 108172.0\n",
      "12 28537.0\n",
      "11 2630.0\n",
      "10 351.0\n",
      "9 41.0\n",
      "8 3.0\n",
      "7 1.0\n",
      "6 0.0\n",
      "5 2.0\n",
      "4 0.0\n"
     ]
    }
   ],
   "source": [
    "for week in df.index.isocalendar().week.unique():\n",
    "    print(week, df[df.index.isocalendar().week == week]['cases_diff'].sum())"
   ]
  },
  {
   "cell_type": "code",
   "execution_count": 29,
   "metadata": {},
   "outputs": [
    {
     "data": {
      "text/html": [
       "<div>\n",
       "<style scoped>\n",
       "    .dataframe tbody tr th:only-of-type {\n",
       "        vertical-align: middle;\n",
       "    }\n",
       "\n",
       "    .dataframe tbody tr th {\n",
       "        vertical-align: top;\n",
       "    }\n",
       "\n",
       "    .dataframe thead th {\n",
       "        text-align: right;\n",
       "    }\n",
       "</style>\n",
       "<table border=\"1\" class=\"dataframe\">\n",
       "  <thead>\n",
       "    <tr style=\"text-align: right;\">\n",
       "      <th></th>\n",
       "      <th>county</th>\n",
       "      <th>state</th>\n",
       "      <th>fips</th>\n",
       "      <th>cases</th>\n",
       "      <th>deaths</th>\n",
       "      <th>cases_diff</th>\n",
       "      <th>deaths_diff</th>\n",
       "    </tr>\n",
       "    <tr>\n",
       "      <th>date</th>\n",
       "      <th></th>\n",
       "      <th></th>\n",
       "      <th></th>\n",
       "      <th></th>\n",
       "      <th></th>\n",
       "      <th></th>\n",
       "      <th></th>\n",
       "    </tr>\n",
       "  </thead>\n",
       "  <tbody>\n",
       "    <tr>\n",
       "      <th>2020-01-26</th>\n",
       "      <td>Snohomish</td>\n",
       "      <td>Washington</td>\n",
       "      <td>53061.0</td>\n",
       "      <td>1</td>\n",
       "      <td>0.0</td>\n",
       "      <td>0.0</td>\n",
       "      <td>0.0</td>\n",
       "    </tr>\n",
       "    <tr>\n",
       "      <th>2020-01-26</th>\n",
       "      <td>Cook</td>\n",
       "      <td>Illinois</td>\n",
       "      <td>17031.0</td>\n",
       "      <td>1</td>\n",
       "      <td>0.0</td>\n",
       "      <td>0.0</td>\n",
       "      <td>0.0</td>\n",
       "    </tr>\n",
       "    <tr>\n",
       "      <th>2020-01-26</th>\n",
       "      <td>Orange</td>\n",
       "      <td>California</td>\n",
       "      <td>6059.0</td>\n",
       "      <td>1</td>\n",
       "      <td>0.0</td>\n",
       "      <td>0.0</td>\n",
       "      <td>0.0</td>\n",
       "    </tr>\n",
       "    <tr>\n",
       "      <th>2020-01-26</th>\n",
       "      <td>Los Angeles</td>\n",
       "      <td>California</td>\n",
       "      <td>6037.0</td>\n",
       "      <td>1</td>\n",
       "      <td>0.0</td>\n",
       "      <td>NaN</td>\n",
       "      <td>NaN</td>\n",
       "    </tr>\n",
       "    <tr>\n",
       "      <th>2020-01-26</th>\n",
       "      <td>Maricopa</td>\n",
       "      <td>Arizona</td>\n",
       "      <td>4013.0</td>\n",
       "      <td>1</td>\n",
       "      <td>0.0</td>\n",
       "      <td>NaN</td>\n",
       "      <td>NaN</td>\n",
       "    </tr>\n",
       "    <tr>\n",
       "      <th>2020-01-25</th>\n",
       "      <td>Snohomish</td>\n",
       "      <td>Washington</td>\n",
       "      <td>53061.0</td>\n",
       "      <td>1</td>\n",
       "      <td>0.0</td>\n",
       "      <td>0.0</td>\n",
       "      <td>0.0</td>\n",
       "    </tr>\n",
       "    <tr>\n",
       "      <th>2020-01-25</th>\n",
       "      <td>Cook</td>\n",
       "      <td>Illinois</td>\n",
       "      <td>17031.0</td>\n",
       "      <td>1</td>\n",
       "      <td>0.0</td>\n",
       "      <td>0.0</td>\n",
       "      <td>0.0</td>\n",
       "    </tr>\n",
       "    <tr>\n",
       "      <th>2020-01-25</th>\n",
       "      <td>Orange</td>\n",
       "      <td>California</td>\n",
       "      <td>6059.0</td>\n",
       "      <td>1</td>\n",
       "      <td>0.0</td>\n",
       "      <td>NaN</td>\n",
       "      <td>NaN</td>\n",
       "    </tr>\n",
       "    <tr>\n",
       "      <th>2020-01-24</th>\n",
       "      <td>Snohomish</td>\n",
       "      <td>Washington</td>\n",
       "      <td>53061.0</td>\n",
       "      <td>1</td>\n",
       "      <td>0.0</td>\n",
       "      <td>0.0</td>\n",
       "      <td>0.0</td>\n",
       "    </tr>\n",
       "    <tr>\n",
       "      <th>2020-01-24</th>\n",
       "      <td>Cook</td>\n",
       "      <td>Illinois</td>\n",
       "      <td>17031.0</td>\n",
       "      <td>1</td>\n",
       "      <td>0.0</td>\n",
       "      <td>NaN</td>\n",
       "      <td>NaN</td>\n",
       "    </tr>\n",
       "    <tr>\n",
       "      <th>2020-01-23</th>\n",
       "      <td>Snohomish</td>\n",
       "      <td>Washington</td>\n",
       "      <td>53061.0</td>\n",
       "      <td>1</td>\n",
       "      <td>0.0</td>\n",
       "      <td>0.0</td>\n",
       "      <td>0.0</td>\n",
       "    </tr>\n",
       "    <tr>\n",
       "      <th>2020-01-22</th>\n",
       "      <td>Snohomish</td>\n",
       "      <td>Washington</td>\n",
       "      <td>53061.0</td>\n",
       "      <td>1</td>\n",
       "      <td>0.0</td>\n",
       "      <td>0.0</td>\n",
       "      <td>0.0</td>\n",
       "    </tr>\n",
       "    <tr>\n",
       "      <th>2020-01-21</th>\n",
       "      <td>Snohomish</td>\n",
       "      <td>Washington</td>\n",
       "      <td>53061.0</td>\n",
       "      <td>1</td>\n",
       "      <td>0.0</td>\n",
       "      <td>NaN</td>\n",
       "      <td>NaN</td>\n",
       "    </tr>\n",
       "  </tbody>\n",
       "</table>\n",
       "</div>"
      ],
      "text/plain": [
       "                 county       state     fips  cases  deaths  cases_diff  \\\n",
       "date                                                                      \n",
       "2020-01-26    Snohomish  Washington  53061.0      1     0.0         0.0   \n",
       "2020-01-26         Cook    Illinois  17031.0      1     0.0         0.0   \n",
       "2020-01-26       Orange  California   6059.0      1     0.0         0.0   \n",
       "2020-01-26  Los Angeles  California   6037.0      1     0.0         NaN   \n",
       "2020-01-26     Maricopa     Arizona   4013.0      1     0.0         NaN   \n",
       "2020-01-25    Snohomish  Washington  53061.0      1     0.0         0.0   \n",
       "2020-01-25         Cook    Illinois  17031.0      1     0.0         0.0   \n",
       "2020-01-25       Orange  California   6059.0      1     0.0         NaN   \n",
       "2020-01-24    Snohomish  Washington  53061.0      1     0.0         0.0   \n",
       "2020-01-24         Cook    Illinois  17031.0      1     0.0         NaN   \n",
       "2020-01-23    Snohomish  Washington  53061.0      1     0.0         0.0   \n",
       "2020-01-22    Snohomish  Washington  53061.0      1     0.0         0.0   \n",
       "2020-01-21    Snohomish  Washington  53061.0      1     0.0         NaN   \n",
       "\n",
       "            deaths_diff  \n",
       "date                     \n",
       "2020-01-26          0.0  \n",
       "2020-01-26          0.0  \n",
       "2020-01-26          0.0  \n",
       "2020-01-26          NaN  \n",
       "2020-01-26          NaN  \n",
       "2020-01-25          0.0  \n",
       "2020-01-25          0.0  \n",
       "2020-01-25          NaN  \n",
       "2020-01-24          0.0  \n",
       "2020-01-24          NaN  \n",
       "2020-01-23          0.0  \n",
       "2020-01-22          0.0  \n",
       "2020-01-21          NaN  "
      ]
     },
     "execution_count": 29,
     "metadata": {},
     "output_type": "execute_result"
    }
   ],
   "source": [
    "df[df.index.isocalendar().week == df.index.isocalendar().week[-1]]"
   ]
  },
  {
   "cell_type": "markdown",
   "metadata": {},
   "source": [
    "#### Alternate method for finding total cases:"
   ]
  },
  {
   "cell_type": "code",
   "execution_count": 30,
   "metadata": {},
   "outputs": [
    {
     "data": {
      "text/plain": [
       "15696954"
      ]
     },
     "execution_count": 30,
     "metadata": {},
     "output_type": "execute_result"
    }
   ],
   "source": [
    "df[df.index.dayofyear == df.index.dayofyear.max()]['cases'].sum()"
   ]
  },
  {
   "cell_type": "markdown",
   "metadata": {},
   "source": [
    "##### last day of the first week"
   ]
  },
  {
   "cell_type": "code",
   "execution_count": 31,
   "metadata": {},
   "outputs": [
    {
     "data": {
      "text/plain": [
       "datetime.date(2020, 1, 26)"
      ]
     },
     "execution_count": 31,
     "metadata": {},
     "output_type": "execute_result"
    }
   ],
   "source": [
    "df[df.index.isocalendar().week == df.index.isocalendar().week[-1]].index.max().date()"
   ]
  },
  {
   "cell_type": "code",
   "execution_count": 32,
   "metadata": {},
   "outputs": [
    {
     "data": {
      "text/plain": [
       "('12/10/20', 5120.0, 66.0)"
      ]
     },
     "execution_count": 32,
     "metadata": {},
     "output_type": "execute_result"
    }
   ],
   "source": [
    "df.index[0].strftime(\"%D\"), state_df('New Jersey').xs(df.index[0])['cases_diff'].sum(), state_df('New Jersey').xs(df.index[0])['deaths_diff'].sum()"
   ]
  },
  {
   "cell_type": "code",
   "execution_count": 33,
   "metadata": {},
   "outputs": [
    {
     "data": {
      "text/plain": [
       "<AxesSubplot:xlabel='date'>"
      ]
     },
     "execution_count": 33,
     "metadata": {},
     "output_type": "execute_result"
    },
    {
     "data": {
      "image/png": "[encoded data removed]",
      "text/plain": [
       "<Figure size 432x288 with 1 Axes>"
      ]
     },
     "metadata": {
      "needs_background": "light"
     },
     "output_type": "display_data"
    }
   ],
   "source": [
    "county_df(\"Bergen\").plot()"
   ]
  },
  {
   "cell_type": "code",
   "execution_count": 34,
   "metadata": {},
   "outputs": [
    {
     "data": {
      "text/plain": [
       "<AxesSubplot:xlabel='date'>"
      ]
     },
     "execution_count": 34,
     "metadata": {},
     "output_type": "execute_result"
    },
    {
     "data": {
      "image/png": "[encoded data removed]",
      "text/plain": [
       "<Figure size 432x288 with 1 Axes>"
      ]
     },
     "metadata": {
      "needs_background": "light"
     },
     "output_type": "display_data"
    }
   ],
   "source": [
    "df[(df.index.month >= 4) & (df.state == 'New Jersey') & (df.county == 'Bergen')].drop(columns=['fips']).plot()"
   ]
  },
  {
   "cell_type": "code",
   "execution_count": 35,
   "metadata": {},
   "outputs": [
    {
     "data": {
      "text/html": [
       "<div>\n",
       "<style scoped>\n",
       "    .dataframe tbody tr th:only-of-type {\n",
       "        vertical-align: middle;\n",
       "    }\n",
       "\n",
       "    .dataframe tbody tr th {\n",
       "        vertical-align: top;\n",
       "    }\n",
       "\n",
       "    .dataframe thead th {\n",
       "        text-align: right;\n",
       "    }\n",
       "</style>\n",
       "<table border=\"1\" class=\"dataframe\">\n",
       "  <thead>\n",
       "    <tr style=\"text-align: right;\">\n",
       "      <th></th>\n",
       "      <th>cases</th>\n",
       "      <th>deaths</th>\n",
       "      <th>cases_diff</th>\n",
       "      <th>deaths_diff</th>\n",
       "    </tr>\n",
       "    <tr>\n",
       "      <th>date</th>\n",
       "      <th></th>\n",
       "      <th></th>\n",
       "      <th></th>\n",
       "      <th></th>\n",
       "    </tr>\n",
       "  </thead>\n",
       "  <tbody>\n",
       "    <tr>\n",
       "      <th>2020-12-10</th>\n",
       "      <td>39557</td>\n",
       "      <td>2187.0</td>\n",
       "      <td>424.0</td>\n",
       "      <td>7.0</td>\n",
       "    </tr>\n",
       "    <tr>\n",
       "      <th>2020-12-09</th>\n",
       "      <td>39133</td>\n",
       "      <td>2180.0</td>\n",
       "      <td>279.0</td>\n",
       "      <td>8.0</td>\n",
       "    </tr>\n",
       "    <tr>\n",
       "      <th>2020-12-08</th>\n",
       "      <td>38854</td>\n",
       "      <td>2172.0</td>\n",
       "      <td>375.0</td>\n",
       "      <td>7.0</td>\n",
       "    </tr>\n",
       "    <tr>\n",
       "      <th>2020-12-07</th>\n",
       "      <td>38479</td>\n",
       "      <td>2165.0</td>\n",
       "      <td>334.0</td>\n",
       "      <td>0.0</td>\n",
       "    </tr>\n",
       "    <tr>\n",
       "      <th>2020-12-06</th>\n",
       "      <td>38145</td>\n",
       "      <td>2165.0</td>\n",
       "      <td>543.0</td>\n",
       "      <td>0.0</td>\n",
       "    </tr>\n",
       "    <tr>\n",
       "      <th>...</th>\n",
       "      <td>...</td>\n",
       "      <td>...</td>\n",
       "      <td>...</td>\n",
       "      <td>...</td>\n",
       "    </tr>\n",
       "    <tr>\n",
       "      <th>2020-03-08</th>\n",
       "      <td>4</td>\n",
       "      <td>0.0</td>\n",
       "      <td>1.0</td>\n",
       "      <td>0.0</td>\n",
       "    </tr>\n",
       "    <tr>\n",
       "      <th>2020-03-07</th>\n",
       "      <td>3</td>\n",
       "      <td>0.0</td>\n",
       "      <td>0.0</td>\n",
       "      <td>0.0</td>\n",
       "    </tr>\n",
       "    <tr>\n",
       "      <th>2020-03-06</th>\n",
       "      <td>3</td>\n",
       "      <td>0.0</td>\n",
       "      <td>1.0</td>\n",
       "      <td>0.0</td>\n",
       "    </tr>\n",
       "    <tr>\n",
       "      <th>2020-03-05</th>\n",
       "      <td>2</td>\n",
       "      <td>0.0</td>\n",
       "      <td>1.0</td>\n",
       "      <td>0.0</td>\n",
       "    </tr>\n",
       "    <tr>\n",
       "      <th>2020-03-04</th>\n",
       "      <td>1</td>\n",
       "      <td>0.0</td>\n",
       "      <td>NaN</td>\n",
       "      <td>NaN</td>\n",
       "    </tr>\n",
       "  </tbody>\n",
       "</table>\n",
       "<p>282 rows × 4 columns</p>\n",
       "</div>"
      ],
      "text/plain": [
       "            cases  deaths  cases_diff  deaths_diff\n",
       "date                                              \n",
       "2020-12-10  39557  2187.0       424.0          7.0\n",
       "2020-12-09  39133  2180.0       279.0          8.0\n",
       "2020-12-08  38854  2172.0       375.0          7.0\n",
       "2020-12-07  38479  2165.0       334.0          0.0\n",
       "2020-12-06  38145  2165.0       543.0          0.0\n",
       "...           ...     ...         ...          ...\n",
       "2020-03-08      4     0.0         1.0          0.0\n",
       "2020-03-07      3     0.0         0.0          0.0\n",
       "2020-03-06      3     0.0         1.0          0.0\n",
       "2020-03-05      2     0.0         1.0          0.0\n",
       "2020-03-04      1     0.0         NaN          NaN\n",
       "\n",
       "[282 rows x 4 columns]"
      ]
     },
     "execution_count": 35,
     "metadata": {},
     "output_type": "execute_result"
    }
   ],
   "source": [
    "county_df(\"Bergen\")"
   ]
  },
  {
   "cell_type": "code",
   "execution_count": 7,
   "metadata": {},
   "outputs": [
    {
     "data": {
      "text/plain": [
       "'03/04/20'"
      ]
     },
     "execution_count": 7,
     "metadata": {},
     "output_type": "execute_result"
    }
   ],
   "source": [
    "state_df(\"New Jersey\").index[-1].strftime(\"%D\")"
   ]
  },
  {
   "cell_type": "code",
   "execution_count": 6,
   "metadata": {},
   "outputs": [
    {
     "data": {
      "text/plain": [
       "('04/15/20', 8021.0)"
      ]
     },
     "execution_count": 6,
     "metadata": {},
     "output_type": "execute_result"
    }
   ],
   "source": [
    "county_df(\"New York City\")['cases_diff'].idxmax().strftime(\"%D\"), county_df(\"New York City\")['cases_diff'].max()"
   ]
  },
  {
   "cell_type": "code",
   "execution_count": 8,
   "metadata": {},
   "outputs": [
    {
     "data": {
      "text/plain": [
       "<AxesSubplot:xlabel='date'>"
      ]
     },
     "execution_count": 8,
     "metadata": {},
     "output_type": "execute_result"
    },
    {
     "data": {
      "image/png": "[encoded data removed]",
      "text/plain": [
       "<Figure size 432x288 with 1 Axes>"
      ]
     },
     "metadata": {
      "needs_background": "light"
     },
     "output_type": "display_data"
    }
   ],
   "source": [
    "county_df(\"Hunterdon\")['cases'].plot()"
   ]
  },
  {
   "cell_type": "code",
   "execution_count": 9,
   "metadata": {},
   "outputs": [
    {
     "data": {
      "text/html": [
       "<div>\n",
       "<style scoped>\n",
       "    .dataframe tbody tr th:only-of-type {\n",
       "        vertical-align: middle;\n",
       "    }\n",
       "\n",
       "    .dataframe tbody tr th {\n",
       "        vertical-align: top;\n",
       "    }\n",
       "\n",
       "    .dataframe thead th {\n",
       "        text-align: right;\n",
       "    }\n",
       "</style>\n",
       "<table border=\"1\" class=\"dataframe\">\n",
       "  <thead>\n",
       "    <tr style=\"text-align: right;\">\n",
       "      <th></th>\n",
       "      <th>cases</th>\n",
       "      <th>deaths</th>\n",
       "      <th>cases_diff</th>\n",
       "      <th>deaths_diff</th>\n",
       "    </tr>\n",
       "    <tr>\n",
       "      <th>date</th>\n",
       "      <th></th>\n",
       "      <th></th>\n",
       "      <th></th>\n",
       "      <th></th>\n",
       "    </tr>\n",
       "  </thead>\n",
       "  <tbody>\n",
       "    <tr>\n",
       "      <th>2020-12-19</th>\n",
       "      <td>3323</td>\n",
       "      <td>134.0</td>\n",
       "      <td>42.0</td>\n",
       "      <td>0.0</td>\n",
       "    </tr>\n",
       "    <tr>\n",
       "      <th>2020-12-18</th>\n",
       "      <td>3281</td>\n",
       "      <td>134.0</td>\n",
       "      <td>42.0</td>\n",
       "      <td>0.0</td>\n",
       "    </tr>\n",
       "    <tr>\n",
       "      <th>2020-12-17</th>\n",
       "      <td>3239</td>\n",
       "      <td>134.0</td>\n",
       "      <td>29.0</td>\n",
       "      <td>0.0</td>\n",
       "    </tr>\n",
       "    <tr>\n",
       "      <th>2020-12-16</th>\n",
       "      <td>3210</td>\n",
       "      <td>134.0</td>\n",
       "      <td>48.0</td>\n",
       "      <td>1.0</td>\n",
       "    </tr>\n",
       "    <tr>\n",
       "      <th>2020-12-15</th>\n",
       "      <td>3162</td>\n",
       "      <td>133.0</td>\n",
       "      <td>31.0</td>\n",
       "      <td>0.0</td>\n",
       "    </tr>\n",
       "    <tr>\n",
       "      <th>...</th>\n",
       "      <td>...</td>\n",
       "      <td>...</td>\n",
       "      <td>...</td>\n",
       "      <td>...</td>\n",
       "    </tr>\n",
       "    <tr>\n",
       "      <th>2020-03-20</th>\n",
       "      <td>11</td>\n",
       "      <td>0.0</td>\n",
       "      <td>3.0</td>\n",
       "      <td>0.0</td>\n",
       "    </tr>\n",
       "    <tr>\n",
       "      <th>2020-03-19</th>\n",
       "      <td>8</td>\n",
       "      <td>0.0</td>\n",
       "      <td>2.0</td>\n",
       "      <td>0.0</td>\n",
       "    </tr>\n",
       "    <tr>\n",
       "      <th>2020-03-18</th>\n",
       "      <td>6</td>\n",
       "      <td>0.0</td>\n",
       "      <td>2.0</td>\n",
       "      <td>0.0</td>\n",
       "    </tr>\n",
       "    <tr>\n",
       "      <th>2020-03-17</th>\n",
       "      <td>4</td>\n",
       "      <td>0.0</td>\n",
       "      <td>3.0</td>\n",
       "      <td>0.0</td>\n",
       "    </tr>\n",
       "    <tr>\n",
       "      <th>2020-03-16</th>\n",
       "      <td>1</td>\n",
       "      <td>0.0</td>\n",
       "      <td>NaN</td>\n",
       "      <td>NaN</td>\n",
       "    </tr>\n",
       "  </tbody>\n",
       "</table>\n",
       "<p>279 rows × 4 columns</p>\n",
       "</div>"
      ],
      "text/plain": [
       "            cases  deaths  cases_diff  deaths_diff\n",
       "date                                              \n",
       "2020-12-19   3323   134.0        42.0          0.0\n",
       "2020-12-18   3281   134.0        42.0          0.0\n",
       "2020-12-17   3239   134.0        29.0          0.0\n",
       "2020-12-16   3210   134.0        48.0          1.0\n",
       "2020-12-15   3162   133.0        31.0          0.0\n",
       "...           ...     ...         ...          ...\n",
       "2020-03-20     11     0.0         3.0          0.0\n",
       "2020-03-19      8     0.0         2.0          0.0\n",
       "2020-03-18      6     0.0         2.0          0.0\n",
       "2020-03-17      4     0.0         3.0          0.0\n",
       "2020-03-16      1     0.0         NaN          NaN\n",
       "\n",
       "[279 rows x 4 columns]"
      ]
     },
     "execution_count": 9,
     "metadata": {},
     "output_type": "execute_result"
    }
   ],
   "source": [
    "county_df(\"Hunterdon\")"
   ]
  }
 ],
 "metadata": {
  "kernelspec": {
   "display_name": "Python 3.9.1",
   "language": "python",
   "name": "python3"
  },
  "language_info": {
   "codemirror_mode": {
    "name": "ipython",
    "version": 3
   },
   "file_extension": ".py",
   "mimetype": "text/x-python",
   "name": "python",
   "nbconvert_exporter": "python",
   "pygments_lexer": "ipython3",
   "version": "3.9.1"
  }
 },
 "nbformat": 4,
 "nbformat_minor": 4
}
